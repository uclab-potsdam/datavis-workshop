{
 "cells": [
  {
   "cell_type": "markdown",
   "metadata": {},
   "source": [
    "## Dynamic Scraping with Selenium and Chrome webdriver"
   ]
  },
  {
   "cell_type": "markdown",
   "metadata": {},
   "source": [
    "#### Approx execution time: 1h 30min"
   ]
  },
  {
   "cell_type": "markdown",
   "metadata": {},
   "source": [
    "This is a simple notebook to work with Selenium and Chrome Webdriver in order to scrape a dynamic website. While for static websites we can use [Beautiful Soup](https://pypi.org/project/beautifulsoup4/), when we are working with dynamic ones we need Selenium. The key aspect of [Selenium](https://pypi.org/project/selenium/) is that it executes javascript when loading a page request, this allows for dynamic websites to be scraped easily. For the purpose of this exercise we will use [Chrome WebDriver](https://chromedriver.chromium.org/), a tool for automated testing of web apps. To complete our exercise we will also use [pandas](https://pypi.org/project/pandas/), the data science and data analysis library, in order to create a dataframe and export our data to our local machine.\n",
    "\n",
    "**Tutorial sections:**\n",
    "- **Start a Headless session**: Start a WebDriver session with Selenium. It will be headless since we won't open a visual browser window and our script will \"drive\" it across the pages we need.\n",
    "- **One page simple scraping**: retrieve all the content from one page and create a dataframe\n",
    "- **Scraping across pages**: Continously load new content, then create a dataframe"
   ]
  },
  {
   "cell_type": "markdown",
   "metadata": {},
   "source": [
    "**Step 1: import**"
   ]
  },
  {
   "cell_type": "code",
   "execution_count": 59,
   "metadata": {},
   "outputs": [],
   "source": [
    "# Will make scraping possible by importing our webdriver and relevant options. This import section can be easily\n",
    "#costumized based on your needs (for example to add particular options to your browser or to catch common errors)\n",
    "from selenium import webdriver\n",
    "from selenium.webdriver.chrome.options import Options\n",
    "from webdriver_manager.chrome import ChromeDriverManager\n",
    "from selenium.common.exceptions import NoSuchElementException\n",
    "from selenium.webdriver.common.by import By\n",
    "import time\n",
    "\n",
    "# Will allow to request, access and write urls of images and other links\n",
    "import urllib.request\n",
    "import requests\n",
    "\n",
    "# Will allow us to move the data we scrape within tables and then export them to csv\n",
    "import pandas as pd"
   ]
  },
  {
   "cell_type": "markdown",
   "metadata": {},
   "source": [
    "Initialize Selenium and driver instance using Chrome WebDriver. To properly install ChromeDriver you can manually set the path following [this guide](https://www.kenst.com/2015/03/including-the-chromedriver-location-in-macos-system-path/) or use `pip install webdriver-manager` to manage it."
   ]
  },
  {
   "cell_type": "markdown",
   "metadata": {},
   "source": [
    "**Step 2: start Chrome webdriver session**"
   ]
  },
  {
   "cell_type": "markdown",
   "metadata": {},
   "source": [
    "For the purpose of this exercise we will get some movies from [Rotten Tomatoes](https://www.rottentomatoes.com/browse/dvd-streaming-all). We are interested in creating a dataset of titles with their ranking, date of release and cover."
   ]
  },
  {
   "cell_type": "code",
   "execution_count": 60,
   "metadata": {
    "scrolled": true
   },
   "outputs": [
    {
     "name": "stderr",
     "output_type": "stream",
     "text": [
      "\n",
      "\n",
      "====== WebDriver manager ======\n",
      "Current google-chrome version is 96.0.4664\n",
      "Get LATEST chromedriver version for 96.0.4664 google-chrome\n",
      "Trying to download new driver from https://chromedriver.storage.googleapis.com/96.0.4664.45/chromedriver_mac64.zip\n",
      "Driver has been saved in cache [/Users/arran/.wdm/drivers/chromedriver/mac64/96.0.4664.45]\n",
      "/Users/arran/opt/anaconda3/lib/python3.7/site-packages/ipykernel_launcher.py:9: DeprecationWarning: executable_path has been deprecated, please pass in a Service object\n",
      "  if __name__ == '__main__':\n"
     ]
    }
   ],
   "source": [
    "# We start an headless Chrome session. (Headless means that we don't open a visual browser window)\n",
    "options = Options()\n",
    "#If you comment out this option below you will be able to see Chrome opening and performing operations!\n",
    "options.headless = True\n",
    "options.add_argument(\"--window-size=1920,1200\")\n",
    "options.add_argument(\"--disable-gpu\");\n",
    "\n",
    "# instead of setting path manually (still possible but a bit annoying) we use DriverManager\n",
    "driver = webdriver.Chrome(executable_path=ChromeDriverManager().install(), options=options)"
   ]
  },
  {
   "cell_type": "code",
   "execution_count": 62,
   "metadata": {},
   "outputs": [
    {
     "name": "stdout",
     "output_type": "stream",
     "text": [
      "done\n"
     ]
    }
   ],
   "source": [
    "driver.get(\"https://www.rottentomatoes.com/browse/dvd-streaming-all\")\n",
    "\n",
    "# print(driver.page_source)\n",
    "# remove the comment above to print the result of our driver.get()\n",
    "print('done')"
   ]
  },
  {
   "cell_type": "markdown",
   "metadata": {},
   "source": [
    "### One time simple scraping"
   ]
  },
  {
   "cell_type": "markdown",
   "metadata": {},
   "source": [
    "The concept behind scraping is quite easy to grasp. We are creating a script that behaves like a human. By using the correct methods we can fake human interactions on webpage. While usually scripts \"see\" different things than us, Selenium, Beautiful Soup and WebDrivers are built to see pages as we would do. Scripts are obviously faster, they don't get to go to the toilet and they do everything very enthusiastically."
   ]
  },
  {
   "cell_type": "markdown",
   "metadata": {},
   "source": [
    "**Step 3: Get movies**"
   ]
  },
  {
   "cell_type": "markdown",
   "metadata": {},
   "source": [
    "Now we will select specific elements we are interested in. To do so we can instruct our script to look for them on the page. Selenium provides a series of methods to do so: we can select elements according to their class name, html tag, css selector, attribute and so on. Please go to https://www.rottentomatoes.com/browse/dvd-streaming-all, right-click on any part of the screen and then select \"Inspect Element\" to activate the source inspector. Here you can check the page structure and select the elements you want to obtain. In our case each movie preview is wrapper in a container with class `mb-movie`. To get all the movies we will tell Selenium to collect only elements with this specific class name."
   ]
  },
  {
   "cell_type": "code",
   "execution_count": 66,
   "metadata": {},
   "outputs": [
    {
     "name": "stdout",
     "output_type": "stream",
     "text": [
      "32\n"
     ]
    }
   ],
   "source": [
    "# Only getting first page results\n",
    "movies = driver.find_elements(By.CLASS_NAME, 'mb-movie')\n",
    "# Check how many elements we obtained. It should be 32, the number of results for the first page.\n",
    "print (len(movies))"
   ]
  },
  {
   "cell_type": "markdown",
   "metadata": {},
   "source": [
    "**Step 4: loop through movies and build a list of lists containing our data**"
   ]
  },
  {
   "cell_type": "markdown",
   "metadata": {},
   "source": [
    "Now that we have a list of elements we can loop over it and replicate our pattern in a more structured way. We will ask Selenium to look for text and images of movies. Again we have a wide range of opportunities. We can use the `.text` method to obtain the content of an HTML tag or we can get attributes from links, it really depends on the website structure and the information we are interested in."
   ]
  },
  {
   "cell_type": "code",
   "execution_count": 67,
   "metadata": {},
   "outputs": [
    {
     "name": "stderr",
     "output_type": "stream",
     "text": [
      "/Users/arran/opt/anaconda3/lib/python3.7/site-packages/selenium/webdriver/remote/webelement.py:341: UserWarning: find_element_by_* commands are deprecated. Please use find_element() instead\n",
      "  warnings.warn(\"find_element_by_* commands are deprecated. Please use find_element() instead\")\n"
     ]
    },
    {
     "name": "stdout",
     "output_type": "stream",
     "text": [
      "1 / Rumble\n",
      "2 / Mosley\n",
      "3 / Benedetta\n",
      "4 / Last Words\n",
      "5 / Saint-Narcisse\n",
      "6 / Try Harder!\n",
      "7 / Back To The Outback\n",
      "8 / The Scary Of Sixty-First\n",
      "9 / Sensation\n",
      "10 / Red Snow\n",
      "11 / The Novice\n",
      "12 / Even Mice Belong In Heaven\n",
      "13 / The Lost Daughter\n",
      "14 / The Hand Of God (È Stata La Mano Di Dio)\n",
      "15 / Encounter\n",
      "16 / Don'T Look Up\n",
      "17 / The United States Of Insanity\n",
      "18 / The Unforgivable\n",
      "19 / Being The Ricardos\n",
      "20 / The Hating Game\n",
      "21 / Portal Runner\n",
      "22 / Swan Song\n",
      "23 / Mother/Android\n",
      "24 / Project Space 13\n",
      "25 / Joy Womack: The White Swan\n",
      "26 / The Last Son\n",
      "27 / Boxing Day\n",
      "28 / Margrete - Queen Of The North\n",
      "29 / Two\n",
      "30 / Minnal Murali\n",
      "31 / Harry Potter 20th Anniversary: Return To Hogwarts\n",
      "32 / Beanie Mania\n",
      "[['Rumble', ' 38%', 'Available Dec 15', 'data/img_basic/poster-1.jpg'], ['Mosley', ' 60%', 'Available Dec 10', 'data/img_basic/poster-2.jpg'], ['Benedetta', ' 85%', 'Available Dec 21', 'data/img_basic/poster-3.jpg'], ['Last Words', ' 33%', 'Available Dec 17', 'data/img_basic/poster-4.jpg'], ['Saint-Narcisse', ' 100%', 'Available Dec 14', 'data/img_basic/poster-5.jpg'], ['Try Harder!', ' 97%', 'Available Dec 24', 'data/img_basic/poster-6.jpg'], ['Back To The Outback', ' 88%', 'Available Dec 10', 'data/img_basic/poster-7.jpg'], ['The Scary Of Sixty-First', ' 56%', 'Available Dec 24', 'data/img_basic/poster-8.jpg'], ['Sensation', ' 17%', 'Available Dec 31', 'data/img_basic/poster-9.jpg'], ['Red Snow', ' 73%', 'Available Dec 28', 'data/img_basic/poster-10.jpg'], ['The Novice', ' 95%', 'Available Dec 17', 'data/img_basic/poster-11.jpg'], ['Even Mice Belong In Heaven', ' 100%', 'Available Dec 10', 'data/img_basic/poster-12.jpg'], ['The Lost Daughter', ' 95%', 'Available Dec 31', 'data/img_basic/poster-13.jpg'], ['The Hand Of God (È Stata La Mano Di Dio)', ' 82%', 'Available Dec 15', 'data/img_basic/poster-14.jpg'], ['Encounter', ' 57%', 'Available Dec 10', 'data/img_basic/poster-15.jpg'], [\"Don'T Look Up\", ' 55%', 'Available Dec 24', 'data/img_basic/poster-16.jpg'], ['The United States Of Insanity', ' 100%', 'Available Dec 10', 'data/img_basic/poster-17.jpg'], ['The Unforgivable', ' 37%', 'Available Dec 10', 'data/img_basic/poster-18.jpg'], ['Being The Ricardos', ' 69%', 'Available Dec 21', 'data/img_basic/poster-19.jpg'], ['The Hating Game', ' 71%', 'Available Dec 10', 'data/img_basic/poster-20.jpg'], ['Portal Runner', ' 100%', 'Available Dec 10', 'data/img_basic/poster-21.jpg'], ['Swan Song', ' 79%', 'Available Dec 17', 'data/img_basic/poster-22.jpg'], ['Mother/Android', ' 31%', 'Available Dec 17', 'data/img_basic/poster-23.jpg'], ['Project Space 13', ' 80%', 'Available Dec 10', 'data/img_basic/poster-24.jpg'], ['Joy Womack: The White Swan', ' 100%', 'Available Dec 10', 'data/img_basic/poster-25.jpg'], ['The Last Son', ' 25%', 'Available Dec 10', 'data/img_basic/poster-26.jpg'], ['Boxing Day', ' 81%', 'Available Dec 17', 'data/img_basic/poster-27.jpg'], ['Margrete - Queen Of The North', ' 90%', 'Available Dec 17', 'data/img_basic/poster-28.jpg'], ['Two', ' 33%', 'Available Dec 10', 'data/img_basic/poster-29.jpg'], ['Minnal Murali', ' 60%', 'Available Dec 24', 'data/img_basic/poster-30.jpg'], ['Harry Potter 20th Anniversary: Return To Hogwarts', ' 95%', 'Available Jan 1', 'data/img_basic/poster-31.jpg'], ['Beanie Mania', ' 100%', 'Available Dec 23', 'data/img_basic/poster-32.jpg']]\n"
     ]
    }
   ],
   "source": [
    "# This empty list will later contain my precious data\n",
    "moviesData = []\n",
    "# I am creating a counter, this will print the parser status and generate filenames for images\n",
    "count = 0\n",
    "for movie in movies:\n",
    "    \n",
    "    count = count + 1\n",
    "    \n",
    "    # we can get precise elements by using css selectors, classes, tag names and xpaths\n",
    "    title = movie.find_element(By.CLASS_NAME, 'movieTitle').text\n",
    "    rating = movie.find_element(By.CLASS_NAME, 'tMeterIcon').text\n",
    "    available = movie.find_element(By.CLASS_NAME, 'release-date').text\n",
    "    image = movie.find_element_by_tag_name('img')\n",
    "    print(count, '/', title)\n",
    "    \n",
    "    # it is also possible to get accessory information from collected elements, \n",
    "    # in this case we want to get the url of the poster images, we can retrieve it from the src attribute\n",
    "    source = image.get_attribute(\"src\")\n",
    "    \n",
    "    # We use urllib to read the poster images and save them locally in a special folder. In order to avoid\n",
    "    # overwriting we use the {0}.format('dynamic variable') to save all of them\n",
    "    imgdestination = \"data/img_basic/poster-{0}.jpg\".format(count)\n",
    "    urllib.request.urlretrieve(source, imgdestination)\n",
    "    \n",
    "    # We append a shorter list to the initial list\n",
    "    moviesData.append([title, rating, available, imgdestination])\n",
    "\n",
    "# Safety print to check everything is fine!\n",
    "print(moviesData)"
   ]
  },
  {
   "cell_type": "markdown",
   "metadata": {},
   "source": [
    "**Step 5: Move list of lists content to a pandas dataframe**"
   ]
  },
  {
   "cell_type": "markdown",
   "metadata": {},
   "source": [
    "We use pandas to create a dataframe holding the information we gathered from Rotten Tomatoes. This is the gateway to data analysis and data cleaning. From pandas we can export a `.csv` file that can later be cleaned, loaded in various applications and finally used to code our prototype."
   ]
  },
  {
   "cell_type": "code",
   "execution_count": 68,
   "metadata": {},
   "outputs": [],
   "source": [
    "AllStreamingTitles = pd.DataFrame(moviesData, columns=[\"title\", \"rating\", \"available\", \"img\"])"
   ]
  },
  {
   "cell_type": "code",
   "execution_count": 69,
   "metadata": {},
   "outputs": [
    {
     "data": {
      "text/html": [
       "<div>\n",
       "<style scoped>\n",
       "    .dataframe tbody tr th:only-of-type {\n",
       "        vertical-align: middle;\n",
       "    }\n",
       "\n",
       "    .dataframe tbody tr th {\n",
       "        vertical-align: top;\n",
       "    }\n",
       "\n",
       "    .dataframe thead th {\n",
       "        text-align: right;\n",
       "    }\n",
       "</style>\n",
       "<table border=\"1\" class=\"dataframe\">\n",
       "  <thead>\n",
       "    <tr style=\"text-align: right;\">\n",
       "      <th></th>\n",
       "      <th>title</th>\n",
       "      <th>rating</th>\n",
       "      <th>available</th>\n",
       "      <th>img</th>\n",
       "    </tr>\n",
       "  </thead>\n",
       "  <tbody>\n",
       "    <tr>\n",
       "      <th>2</th>\n",
       "      <td>Benedetta</td>\n",
       "      <td>85%</td>\n",
       "      <td>Available Dec 21</td>\n",
       "      <td>data/img_basic/poster-3.jpg</td>\n",
       "    </tr>\n",
       "    <tr>\n",
       "      <th>22</th>\n",
       "      <td>Mother/Android</td>\n",
       "      <td>31%</td>\n",
       "      <td>Available Dec 17</td>\n",
       "      <td>data/img_basic/poster-23.jpg</td>\n",
       "    </tr>\n",
       "    <tr>\n",
       "      <th>3</th>\n",
       "      <td>Last Words</td>\n",
       "      <td>33%</td>\n",
       "      <td>Available Dec 17</td>\n",
       "      <td>data/img_basic/poster-4.jpg</td>\n",
       "    </tr>\n",
       "    <tr>\n",
       "      <th>14</th>\n",
       "      <td>Encounter</td>\n",
       "      <td>57%</td>\n",
       "      <td>Available Dec 10</td>\n",
       "      <td>data/img_basic/poster-15.jpg</td>\n",
       "    </tr>\n",
       "    <tr>\n",
       "      <th>28</th>\n",
       "      <td>Two</td>\n",
       "      <td>33%</td>\n",
       "      <td>Available Dec 10</td>\n",
       "      <td>data/img_basic/poster-29.jpg</td>\n",
       "    </tr>\n",
       "  </tbody>\n",
       "</table>\n",
       "</div>"
      ],
      "text/plain": [
       "             title rating         available                           img\n",
       "2        Benedetta    85%  Available Dec 21   data/img_basic/poster-3.jpg\n",
       "22  Mother/Android    31%  Available Dec 17  data/img_basic/poster-23.jpg\n",
       "3       Last Words    33%  Available Dec 17   data/img_basic/poster-4.jpg\n",
       "14       Encounter    57%  Available Dec 10  data/img_basic/poster-15.jpg\n",
       "28             Two    33%  Available Dec 10  data/img_basic/poster-29.jpg"
      ]
     },
     "execution_count": 69,
     "metadata": {},
     "output_type": "execute_result"
    }
   ],
   "source": [
    "#Previewing 5 random rows from my dataframe\n",
    "AllStreamingTitles.sample(5)"
   ]
  },
  {
   "cell_type": "markdown",
   "metadata": {},
   "source": [
    "**Step 6: Export dataframe to csv**"
   ]
  },
  {
   "cell_type": "code",
   "execution_count": 70,
   "metadata": {},
   "outputs": [],
   "source": [
    "# Check the 'data' subfolder after executing this cell to see the file.\n",
    "AllStreamingTitles.to_csv('data/titlesDataRaw.csv', sep=',')"
   ]
  },
  {
   "cell_type": "markdown",
   "metadata": {},
   "source": [
    "### Iterating on page's elements"
   ]
  },
  {
   "cell_type": "markdown",
   "metadata": {},
   "source": [
    "What if we need to scrape more than what is visible on the first page? Currently we are getting titles only from the initial screen. \n",
    "Instead we want to keep going: our script should be able to proceed down the page and do something everytime new titles need to be loaded. To approach this problem we need to go back to the source website. At the bottom of the page it's possible to spot a yellow \"Show More\" button, if we click on it new movies are loaded. \n",
    "\n",
    "**Positive aspects**\n",
    "- We have a distinct element, the yellow button with fairly easy interaction\n",
    "- We have a stable pattern and everything is happening on one single page, we don't need to touch the page URL\n",
    "- We can adopt a similar procedure to the previous one.\n",
    "\n",
    "**Negative aspects**\n",
    "- The page indefinitely loads new content, the button does not change and/or disappear at some point\n",
    "\n",
    "This calls for a fairly simple strategy. We will modify only one step of our procedure: step 3. Instead of creating a variable with the first page results, we will create a while loop that keeps loading content up to a certain point, while getting all the movies. This particular case does not require that we access individual URLs, for an example of cross-page scraping see the Advanced Dynamic Scraper notebook."
   ]
  },
  {
   "cell_type": "markdown",
   "metadata": {},
   "source": [
    "**Step 1 and 2 stay the same!**"
   ]
  },
  {
   "cell_type": "markdown",
   "metadata": {},
   "source": [
    "**Step 3: automate clicking of the \"Show More\" button**"
   ]
  },
  {
   "cell_type": "markdown",
   "metadata": {},
   "source": [
    "Websites generally don't like to be scraped (on some websites it's explicitly forbidden, so be careful). It can happen that if we are interacting with the page too quickly we might get blocked or throttled (slowed down). We will fake interactions with the \"Show More\" button every 5 seconds to avoid throttle."
   ]
  },
  {
   "cell_type": "code",
   "execution_count": 71,
   "metadata": {
    "scrolled": true
   },
   "outputs": [
    {
     "name": "stdout",
     "output_type": "stream",
     "text": [
      "I clicked \"show more\" 0 times\n",
      "I clicked \"show more\" 1 times\n",
      "I clicked \"show more\" 2 times\n",
      "I clicked \"show more\" 3 times\n",
      "I clicked \"show more\" 4 times\n",
      "I clicked \"show more\" 5 times\n",
      "I clicked \"show more\" 6 times\n",
      "I clicked \"show more\" 7 times\n",
      "I clicked \"show more\" 8 times\n",
      "I clicked \"show more\" 9 times\n",
      "I clicked \"show more\" 10 times\n",
      "started movies collection\n",
      "1 / Rumble\n"
     ]
    },
    {
     "name": "stderr",
     "output_type": "stream",
     "text": [
      "/Users/arran/opt/anaconda3/lib/python3.7/site-packages/selenium/webdriver/remote/webelement.py:341: UserWarning: find_element_by_* commands are deprecated. Please use find_element() instead\n",
      "  warnings.warn(\"find_element_by_* commands are deprecated. Please use find_element() instead\")\n"
     ]
    },
    {
     "name": "stdout",
     "output_type": "stream",
     "text": [
      "2 / Mosley\n",
      "3 / Benedetta\n",
      "4 / Last Words\n",
      "5 / Saint-Narcisse\n",
      "6 / Try Harder!\n",
      "7 / Back To The Outback\n",
      "8 / The Scary Of Sixty-First\n",
      "9 / Sensation\n",
      "10 / Red Snow\n",
      "11 / The Novice\n",
      "12 / Even Mice Belong In Heaven\n",
      "13 / The Lost Daughter\n",
      "14 / The Hand Of God (È Stata La Mano Di Dio)\n",
      "15 / Encounter\n",
      "16 / Don'T Look Up\n",
      "17 / The United States Of Insanity\n",
      "18 / The Unforgivable\n",
      "19 / Being The Ricardos\n",
      "20 / The Hating Game\n",
      "21 / Portal Runner\n",
      "22 / Swan Song\n",
      "23 / Mother/Android\n",
      "24 / Project Space 13\n",
      "25 / Joy Womack: The White Swan\n",
      "26 / The Last Son\n",
      "27 / Boxing Day\n",
      "28 / Margrete - Queen Of The North\n",
      "29 / Two\n",
      "30 / Minnal Murali\n",
      "31 / Harry Potter 20th Anniversary: Return To Hogwarts\n",
      "32 / Beanie Mania\n",
      "33 / Clifford The Big Red Dog\n",
      "34 / Bugs\n",
      "35 / They Say Nothing Stays The Same (Aru Sendo No Hanashi)\n",
      "36 / Climate Of The Hunter\n",
      "37 / Broken Law\n",
      "38 / Violet\n",
      "39 / Freeland\n",
      "40 / Gustav Stickley: American Craftsman\n",
      "41 / She Paradise\n",
      "42 / A Gift From Bob\n",
      "43 / Karen Dalton: In My Own Time\n",
      "44 / Night Raiders\n",
      "45 / Captains Of Za'Atari\n",
      "46 / Clerk\n",
      "47 / The Feast\n",
      "48 / Brian Wilson: Long Promised Road\n",
      "49 / 13 Minutes\n",
      "50 / The Drummer\n",
      "51 / Kurt Vonnegut: Unstuck In Time\n",
      "52 / Zeros And Ones\n",
      "53 / Boiling Point\n",
      "54 / Soulmates\n",
      "55 / Dangerous\n",
      "56 / Motherly\n",
      "57 / One Shot\n",
      "58 / The Last Days Of Capitalism\n",
      "59 / Apex\n",
      "60 / See You Next Christmas\n",
      "61 / Alpha Rift\n",
      "62 / Two Yellow Lines\n",
      "63 / Repeat\n",
      "64 / That Cold Dead Look In Your Eyes\n",
      "65 / Dune\n",
      "66 / The Capote Tapes\n",
      "67 / De Gaulle\n",
      "68 / Blizzard Of Souls (The Rifleman) (Dveselu Putenis)\n",
      "69 / Beans\n",
      "70 / Keyboard Fantasies\n",
      "71 / The Estate\n",
      "72 / The End Of The Storm\n",
      "73 / Knocking\n",
      "74 / Bergman Island\n",
      "75 / Son Of Monarchs\n",
      "76 / At The Ready\n",
      "77 / Broadcast Signal Intrusion\n",
      "78 / The Spine Of Night\n",
      "79 / The Beta Test\n",
      "80 / Tango Shalom\n",
      "81 / After We Fell\n",
      "82 / Finding Kendrick Johnson\n",
      "83 / Snakehead\n",
      "84 / Mothers Of The Revolution\n",
      "85 / Joy Ride\n",
      "86 / Warning\n",
      "87 / Runt\n",
      "88 / The Village Detective: A Song Cycle\n",
      "89 / Night At The Eagle Inn\n",
      "90 / Outlier\n",
      "91 / The Deep House\n",
      "92 / Isolation\n",
      "93 / Bigfoot Famous\n",
      "94 / Alice Is Still Dead\n",
      "95 / Needle In A Timestack\n",
      "96 / Halloween Kills\n",
      "97 / Held For Ransom (Ser Du Månen, Daniel)\n",
      "98 / The Many Saints Of Newark\n",
      "99 / In Full Bloom\n",
      "100 / Red Heaven\n",
      "101 / The Old Ways\n",
      "102 / The Addams Family 2\n",
      "103 / Sophie Jones\n",
      "104 / Mayday\n",
      "105 / Coming Home In The Dark\n",
      "106 / The Blazing World\n",
      "107 / I'M Your Man\n",
      "108 / Witch Hunt\n",
      "109 / Stop And Go (Recovery)\n",
      "110 / Not Going Quietly\n",
      "111 / The Gig Is Up\n",
      "112 / American Insurrection (The Volunteers)\n",
      "113 / Live At Mister Kelly'S\n",
      "114 / Demigod\n",
      "115 / American Night\n",
      "116 / Survive The Game\n",
      "117 / South Of Heaven\n",
      "118 / Pharma Bro\n",
      "119 / Hell Or High Seas\n",
      "120 / Implanted\n",
      "121 / Vengeance Is Mine\n",
      "122 / The Cleaner\n",
      "123 / PTSD: The Walking Wounded\n",
      "124 / Grave Intentions\n",
      "125 / Worth\n",
      "126 / The Nowhere Inn\n",
      "127 / Swimming Out Till The Sea Turns Blue\n",
      "128 / Fully Realized Humans\n",
      "129 / Lone Wolf\n",
      "130 / The Killing Of Kenneth Chamberlain\n",
      "131 / This Is The Year\n",
      "132 / Through The Glass Darkly\n",
      "133 / The Wonderful: Stories From The Space Station\n",
      "134 / The Big Scary 'S' Word\n",
      "135 / Cinderella\n",
      "136 / Prisoners Of The Ghostland\n",
      "137 / The Auschwitz Report\n",
      "138 / Wild Indian\n",
      "139 / Best Sellers\n",
      "140 / On These Grounds (Spring Valley)\n",
      "141 / Seance\n",
      "142 / East Of The Mountains\n",
      "143 / Last Night In Rozzie\n",
      "144 / All The Streets Are Silent: The Convergence Of Hip Hop And Skateboarding (1987-1997)\n",
      "145 / Bitchin': The Sound And Fury Of Rick James\n",
      "146 / A Dim Valley\n",
      "147 / Dating & New York\n",
      "148 / Lady Of The Manor\n",
      "149 / Collection\n",
      "150 / The Influencer\n",
      "151 / Bad Candy\n",
      "152 / Death Drop Gorgeous\n",
      "153 / Another Girl\n",
      "154 / This Is The Night\n",
      "155 / When I'M A Moth\n",
      "156 / The Seer And The Unseen\n",
      "157 / Rare Beasts\n",
      "158 / Really Love\n",
      "159 / The Green Knight\n",
      "160 / Howling Village (Inunaki Mura)\n",
      "161 / PAW Patrol: The Movie\n",
      "162 / PVT CHAT\n",
      "163 / Missing In Brooks County\n",
      "164 / Ellie And Abbie (And Ellie'S Dead Aunt)\n",
      "165 / Barbara Lee: Speaking Truth To Power\n",
      "166 / Cryptozoo\n",
      "167 / Reminiscence\n",
      "168 / Notorious Nick\n",
      "169 / The Colony (Tides)\n",
      "170 / Too Late\n",
      "171 / Demonic\n",
      "172 / No Man Of God\n",
      "173 / Behemoth\n",
      "174 / Last Man Standing: Suge Knight And The Murders Of Biggie & Tupac\n",
      "175 / Habit\n",
      "176 / Blood Conscious\n",
      "177 / The Last Matinee (Red Screening)\n",
      "178 / Zone 414\n",
      "179 / The Gateway\n",
      "180 / Baby Money\n",
      "181 / Yakuza Princess\n",
      "182 / Ted Bundy: American Boogeyman\n",
      "183 / The Mayberry Effect\n",
      "184 / Paper Tiger\n",
      "185 / Karen\n",
      "186 / The Suicide Squad\n",
      "187 / You Will Die At Twenty\n",
      "188 / Rising Wolf (Ascendant)\n",
      "189 / Curiosa\n",
      "190 / Whirlybird\n",
      "191 / The American Sector\n",
      "192 / Pig\n",
      "193 / Enemies Of The State\n",
      "194 / John And The Hole\n",
      "195 / Materna\n",
      "196 / The Meaning Of Hitler\n",
      "197 / Twist\n",
      "198 / Infinitum: Subject Unknown\n",
      "199 / Naked Singularity\n",
      "200 / Night Drive\n",
      "201 / American Traitor: The Trial Of Axis Sally\n",
      "202 / The East\n",
      "203 / Crime Story\n",
      "204 / Ride The Eagle\n",
      "205 / Buckley'S Chance\n",
      "206 / Sparkling: The Story Of Champagne\n",
      "207 / Charming The Hearts Of Men\n",
      "208 / Val\n",
      "209 / A Dark Foe\n",
      "210 / Mondo Hollywoodland\n",
      "211 / Queen Of The Beach\n",
      "212 / The Legend Of Tayos\n",
      "213 / The Shattering\n",
      "214 / Rose Plays Julie\n",
      "215 / For Madmen Only\n",
      "216 / Lorelei\n",
      "217 / Sweat\n",
      "218 / Mandibles (Mandibules)\n",
      "219 / The Exchange\n",
      "220 / Meander\n",
      "221 / How It Ends\n",
      "222 / Long Story Short\n",
      "223 / Werewolves Within\n",
      "224 / Kid Candidate\n",
      "225 / The Loneliest Whale: The Search For 52\n",
      "226 / Settlers\n",
      "227 / The House Next Door: Meet The Blacks 2\n",
      "228 / Great White\n",
      "229 / Till Death\n",
      "230 / The Phantom\n",
      "231 / Danny. Legend. God.\n",
      "232 / Marathon\n",
      "233 / The Nest\n",
      "234 / Running Against The Wind\n",
      "235 / Midnight In The Switchgrass\n",
      "236 / Die In A Gunfight\n",
      "237 / Batman: The Long Halloween, Part Two\n",
      "238 / We Intend To Cause Havoc\n",
      "239 / Here After\n",
      "240 / River\n",
      "241 / The Body Fights Back\n",
      "242 / Toofaan\n",
      "243 / The New Bauhaus\n",
      "244 / Ice Guardians\n",
      "245 / Steps\n",
      "246 / Dead Pigs\n",
      "247 / Dream Horse\n",
      "248 / Lydia Lunch: The War Is Never Over\n",
      "249 / My Heart Can'T Beat Unless You Tell It To\n",
      "250 / The Oak Room\n",
      "251 / Stalker\n",
      "252 / The Man Who Sold His Skin\n",
      "253 / Akilla'S Escape\n",
      "254 / Luca\n",
      "255 / My Tender Matador (Tengo Miedo Torero)\n",
      "256 / Say Your Prayers\n",
      "257 / Escape From Extinction\n",
      "258 / Silent Night\n",
      "259 / First Date\n",
      "260 / Censor\n",
      "261 / Batman: The Long Halloween, Part One\n",
      "262 / Gaia\n",
      "263 / Spirit Untamed\n",
      "264 / The Evil Next Door (The Other Side)\n",
      "265 / Forget Everything And Run (F.E.A.R.)\n",
      "266 / A Perfect Enemy\n",
      "267 / Rogue Hostage\n",
      "268 / Death In Texas\n",
      "269 / Hamlet/Horatio\n",
      "270 / Lansky\n",
      "271 / The Birthday Cake\n",
      "272 / Untitled Horror Movie\n"
     ]
    }
   ],
   "source": [
    "# I am creating a variable holding the number of times I want to click on the 'Show More' button. \n",
    "# Alternatively I could code my script to stop when a certain point in data is reached, \n",
    "#for example a particular title\n",
    "pageExpandLimit = 0\n",
    "# I am also creating a variable to store movie pictures correctly\n",
    "count = 0\n",
    "# An empty list to store my webelements\n",
    "moreMovies = []\n",
    "# And an empty list that will be filled with my data.\n",
    "dataList = []\n",
    "\n",
    "while True:\n",
    "    # Add 1 to counter so we can artificially stop the loop\n",
    "    print('I clicked \"show more\" {0} times'.format(pageExpandLimit))\n",
    "    pageExpandLimit = pageExpandLimit + 1 \n",
    "    \n",
    "    # Taking a screenshot everytime we click on the button (to check where my browser's at)\n",
    "    # This can be remove if it ends up taking too much space.\n",
    "    driver.save_screenshot(\"screenshots/screenshot{0}.png\".format(pageExpandLimit))\n",
    "    \n",
    "    if pageExpandLimit < 10:\n",
    "        \n",
    "        # Generic asleep time to avoid throttle\n",
    "        time.sleep(5)\n",
    "        # Find the button element and click on it to keep loading movies\n",
    "        driver.find_element(By.CLASS_NAME, 'mb-load-btn').click()  \n",
    "        # Dump all the elements in one list\n",
    "        moreMovies = driver.find_elements(By.CLASS_NAME, 'mb-movie')\n",
    "        \n",
    "    # It will set the condition to False if counter is greater than 10, this will break the while loop\n",
    "    if pageExpandLimit > 10:\n",
    "        \n",
    "        # Before breaking the loop I will go through the data as I did in the example above\n",
    "        print('started movies collection')\n",
    "        for movie in moreMovies:\n",
    "            count = count + 1\n",
    "            try:\n",
    "                title = movie.find_element(By.CLASS_NAME, 'movieTitle').text\n",
    "                rating = movie.find_element(By.CLASS_NAME, 'tMeterIcon').text\n",
    "                available = movie.find_element(By.CLASS_NAME, 'release-date').text\n",
    "                image = movie.find_element_by_tag_name('img')\n",
    "            \n",
    "                print(count, '/', title)\n",
    "\n",
    "                source = image.get_attribute(\"src\")\n",
    "\n",
    "                imgdestination = \"data/img_basic/poster-{0}.jpg\".format(count)\n",
    "                urllib.request.urlretrieve(source, imgdestination)\n",
    "\n",
    "                # Appending data\n",
    "                dataList.append([title, rating, available, imgdestination])\n",
    "            except:\n",
    "                print('an exception occurred for', count)\n",
    "            \n",
    "        # Breaking and exiting the loop\n",
    "        break"
   ]
  },
  {
   "cell_type": "code",
   "execution_count": 72,
   "metadata": {},
   "outputs": [
    {
     "name": "stdout",
     "output_type": "stream",
     "text": [
      "[['Rumble', ' 38%', 'Available Dec 15', 'data/img_basic/poster-1.jpg'], ['Mosley', ' 60%', 'Available Dec 10', 'data/img_basic/poster-2.jpg'], ['Benedetta', ' 85%', 'Available Dec 21', 'data/img_basic/poster-3.jpg'], ['Last Words', ' 33%', 'Available Dec 17', 'data/img_basic/poster-4.jpg'], ['Saint-Narcisse', ' 100%', 'Available Dec 14', 'data/img_basic/poster-5.jpg'], ['Try Harder!', ' 97%', 'Available Dec 24', 'data/img_basic/poster-6.jpg'], ['Back To The Outback', ' 88%', 'Available Dec 10', 'data/img_basic/poster-7.jpg'], ['The Scary Of Sixty-First', ' 56%', 'Available Dec 24', 'data/img_basic/poster-8.jpg'], ['Sensation', ' 17%', 'Available Dec 31', 'data/img_basic/poster-9.jpg'], ['Red Snow', ' 73%', 'Available Dec 28', 'data/img_basic/poster-10.jpg'], ['The Novice', ' 95%', 'Available Dec 17', 'data/img_basic/poster-11.jpg'], ['Even Mice Belong In Heaven', ' 100%', 'Available Dec 10', 'data/img_basic/poster-12.jpg'], ['The Lost Daughter', ' 95%', 'Available Dec 31', 'data/img_basic/poster-13.jpg'], ['The Hand Of God (È Stata La Mano Di Dio)', ' 82%', 'Available Dec 15', 'data/img_basic/poster-14.jpg'], ['Encounter', ' 57%', 'Available Dec 10', 'data/img_basic/poster-15.jpg'], [\"Don'T Look Up\", ' 55%', 'Available Dec 24', 'data/img_basic/poster-16.jpg'], ['The United States Of Insanity', ' 100%', 'Available Dec 10', 'data/img_basic/poster-17.jpg'], ['The Unforgivable', ' 37%', 'Available Dec 10', 'data/img_basic/poster-18.jpg'], ['Being The Ricardos', ' 69%', 'Available Dec 21', 'data/img_basic/poster-19.jpg'], ['The Hating Game', ' 71%', 'Available Dec 10', 'data/img_basic/poster-20.jpg'], ['Portal Runner', ' 100%', 'Available Dec 10', 'data/img_basic/poster-21.jpg'], ['Swan Song', ' 79%', 'Available Dec 17', 'data/img_basic/poster-22.jpg'], ['Mother/Android', ' 31%', 'Available Dec 17', 'data/img_basic/poster-23.jpg'], ['Project Space 13', ' 80%', 'Available Dec 10', 'data/img_basic/poster-24.jpg'], ['Joy Womack: The White Swan', ' 100%', 'Available Dec 10', 'data/img_basic/poster-25.jpg'], ['The Last Son', ' 25%', 'Available Dec 10', 'data/img_basic/poster-26.jpg'], ['Boxing Day', ' 81%', 'Available Dec 17', 'data/img_basic/poster-27.jpg'], ['Margrete - Queen Of The North', ' 90%', 'Available Dec 17', 'data/img_basic/poster-28.jpg'], ['Two', ' 33%', 'Available Dec 10', 'data/img_basic/poster-29.jpg'], ['Minnal Murali', ' 60%', 'Available Dec 24', 'data/img_basic/poster-30.jpg'], ['Harry Potter 20th Anniversary: Return To Hogwarts', ' 95%', 'Available Jan 1', 'data/img_basic/poster-31.jpg'], ['Beanie Mania', ' 100%', 'Available Dec 23', 'data/img_basic/poster-32.jpg'], ['Clifford The Big Red Dog', ' 57%', 'Available Nov 10', 'data/img_basic/poster-33.jpg'], ['Bugs', ' 88%', 'Available Nov 16', 'data/img_basic/poster-34.jpg'], ['They Say Nothing Stays The Same (Aru Sendo No Hanashi)', ' 100%', 'Available Nov 12', 'data/img_basic/poster-35.jpg'], ['Climate Of The Hunter', ' 84%', 'Available Nov 23', 'data/img_basic/poster-36.jpg'], ['Broken Law', ' 100%', 'Available Nov 16', 'data/img_basic/poster-37.jpg'], ['Violet', ' 82%', 'Available Nov 9', 'data/img_basic/poster-38.jpg'], ['Freeland', ' 100%', 'Available Nov 19', 'data/img_basic/poster-39.jpg'], ['Gustav Stickley: American Craftsman', ' 71%', 'Available Nov 15', 'data/img_basic/poster-40.jpg'], ['She Paradise', ' 88%', 'Available Nov 19', 'data/img_basic/poster-41.jpg'], ['A Gift From Bob', ' 79%', 'Available Nov 9', 'data/img_basic/poster-42.jpg'], ['Karen Dalton: In My Own Time', ' 100%', 'Available Nov 16', 'data/img_basic/poster-43.jpg'], ['Night Raiders', ' 84%', 'Available Nov 12', 'data/img_basic/poster-44.jpg'], [\"Captains Of Za'Atari\", ' 94%', 'Available Nov 19', 'data/img_basic/poster-45.jpg'], ['Clerk', ' 80%', 'Available Nov 23', 'data/img_basic/poster-46.jpg'], ['The Feast', ' 81%', 'Available Nov 19', 'data/img_basic/poster-47.jpg'], ['Brian Wilson: Long Promised Road', ' 94%', 'Available Nov 19', 'data/img_basic/poster-48.jpg'], ['13 Minutes', ' 24%', 'Available Nov 19', 'data/img_basic/poster-49.jpg'], ['The Drummer', ' 80%', 'Available Nov 9', 'data/img_basic/poster-50.jpg'], ['Kurt Vonnegut: Unstuck In Time', ' 89%', 'Available Nov 19', 'data/img_basic/poster-51.jpg'], ['Zeros And Ones', ' 63%', 'Available Nov 19', 'data/img_basic/poster-52.jpg'], ['Boiling Point', ' 98%', 'Available Nov 23', 'data/img_basic/poster-53.jpg'], ['Soulmates', ' 17%', 'Available Nov 12', 'data/img_basic/poster-54.jpg'], ['Dangerous', ' 26%', 'Available Nov 5', 'data/img_basic/poster-55.jpg'], ['Motherly', ' 86%', 'Available Nov 16', 'data/img_basic/poster-56.jpg'], ['One Shot', ' 67%', 'Available Nov 5', 'data/img_basic/poster-57.jpg'], ['The Last Days Of Capitalism', ' 100%', 'Available Nov 12', 'data/img_basic/poster-58.jpg'], ['Apex', ' 0%', 'Available Nov 12', 'data/img_basic/poster-59.jpg'], ['See You Next Christmas', ' 80%', 'Available Nov 9', 'data/img_basic/poster-60.jpg'], ['Alpha Rift', ' 77%', 'Available Nov 19', 'data/img_basic/poster-61.jpg'], ['Two Yellow Lines', ' 100%', 'Available Nov 9', 'data/img_basic/poster-62.jpg'], ['Repeat', ' 80%', 'Available Nov 19', 'data/img_basic/poster-63.jpg'], ['That Cold Dead Look In Your Eyes', ' 75%', 'Available Nov 9', 'data/img_basic/poster-64.jpg'], ['Dune', ' 83%', 'Available Oct 22', 'data/img_basic/poster-65.jpg'], ['The Capote Tapes', ' 93%', 'Available Oct 26', 'data/img_basic/poster-66.jpg'], ['De Gaulle', ' 40%', 'Available Oct 22', 'data/img_basic/poster-67.jpg'], ['Blizzard Of Souls (The Rifleman) (Dveselu Putenis)', ' 75%', 'Available Oct 19', 'data/img_basic/poster-68.jpg'], ['Beans', ' 90%', 'Available Nov 5', 'data/img_basic/poster-69.jpg'], ['Keyboard Fantasies', ' 100%', 'Available Oct 29', 'data/img_basic/poster-70.jpg'], ['The Estate', ' 33%', 'Available Oct 22', 'data/img_basic/poster-71.jpg'], ['The End Of The Storm', ' 71%', 'Available Nov 2', 'data/img_basic/poster-72.jpg'], ['Knocking', ' 80%', 'Available Oct 19', 'data/img_basic/poster-73.jpg'], ['Bergman Island', ' 87%', 'Available Oct 22', 'data/img_basic/poster-74.jpg'], ['Son Of Monarchs', ' 92%', 'Available Nov 2', 'data/img_basic/poster-75.jpg'], ['At The Ready', ' 88%', 'Available Oct 22', 'data/img_basic/poster-76.jpg'], ['Broadcast Signal Intrusion', ' 72%', 'Available Oct 22', 'data/img_basic/poster-77.jpg'], ['The Spine Of Night', ' 76%', 'Available Oct 29', 'data/img_basic/poster-78.jpg'], ['The Beta Test', ' 93%', 'Available Nov 5', 'data/img_basic/poster-79.jpg'], ['Tango Shalom', ' 71%', 'Available Oct 29', 'data/img_basic/poster-80.jpg'], ['After We Fell', ' 0%', 'Available Oct 19', 'data/img_basic/poster-81.jpg'], ['Finding Kendrick Johnson', ' 100%', 'Available Oct 29', 'data/img_basic/poster-82.jpg'], ['Snakehead', ' 68%', 'Available Oct 29', 'data/img_basic/poster-83.jpg'], ['Mothers Of The Revolution', ' 100%', 'Available Oct 19', 'data/img_basic/poster-84.jpg'], ['Joy Ride', ' 100%', 'Available Oct 29', 'data/img_basic/poster-85.jpg'], ['Warning', ' 30%', 'Available Oct 22', 'data/img_basic/poster-86.jpg'], ['Runt', ' 67%', 'Available Oct 19', 'data/img_basic/poster-87.jpg'], ['The Village Detective: A Song Cycle', ' 92%', 'Available Oct 20', 'data/img_basic/poster-88.jpg'], ['Night At The Eagle Inn', ' 82%', 'Available Nov 2', 'data/img_basic/poster-89.jpg'], ['Outlier', ' 82%', 'Available Nov 2', 'data/img_basic/poster-90.jpg'], ['The Deep House', ' 73%', 'Available Nov 5', 'data/img_basic/poster-91.jpg'], ['Isolation', ' 67%', 'Available Nov 2', 'data/img_basic/poster-92.jpg'], ['Bigfoot Famous', ' 67%', 'Available Nov 2', 'data/img_basic/poster-93.jpg'], ['Alice Is Still Dead', ' 100%', 'Available Nov 5', 'data/img_basic/poster-94.jpg'], ['Needle In A Timestack', ' 35%', 'Available Oct 15', 'data/img_basic/poster-95.jpg'], ['Halloween Kills', ' 41%', 'Available Oct 15', 'data/img_basic/poster-96.jpg'], ['Held For Ransom (Ser Du Månen, Daniel)', ' 100%', 'Available Oct 15', 'data/img_basic/poster-97.jpg'], ['The Many Saints Of Newark', ' 71%', 'Available Oct 1', 'data/img_basic/poster-98.jpg'], ['In Full Bloom', ' 88%', 'Available Oct 15', 'data/img_basic/poster-99.jpg'], ['Red Heaven', ' 100%', 'Available Oct 19', 'data/img_basic/poster-100.jpg'], ['The Old Ways', ' 95%', 'Available Oct 12', 'data/img_basic/poster-101.jpg'], ['The Addams Family 2', ' 30%', 'Available Oct 1', 'data/img_basic/poster-102.jpg'], ['Sophie Jones', ' 100%', 'Available Oct 12', 'data/img_basic/poster-103.jpg'], ['Mayday', ' 49%', 'Available Oct 1', 'data/img_basic/poster-104.jpg'], ['Coming Home In The Dark', ' 92%', 'Available Oct 1', 'data/img_basic/poster-105.jpg'], ['The Blazing World', ' 57%', 'Available Oct 15', 'data/img_basic/poster-106.jpg'], [\"I'M Your Man\", ' 96%', 'Available Oct 12', 'data/img_basic/poster-107.jpg'], ['Witch Hunt', ' 62%', 'Available Oct 1', 'data/img_basic/poster-108.jpg'], ['Stop And Go (Recovery)', ' 76%', 'Available Oct 1', 'data/img_basic/poster-109.jpg'], ['Not Going Quietly', ' 100%', 'Available Oct 5', 'data/img_basic/poster-110.jpg'], ['The Gig Is Up', ' 100%', 'Available Oct 8', 'data/img_basic/poster-111.jpg'], ['American Insurrection (The Volunteers)', ' 67%', 'Available Oct 8', 'data/img_basic/poster-112.jpg'], [\"Live At Mister Kelly'S\", ' 100%', 'Available Oct 12', 'data/img_basic/poster-113.jpg'], ['Demigod', ' 64%', 'Available Oct 15', 'data/img_basic/poster-114.jpg'], ['American Night', ' 10%', 'Available Oct 1', 'data/img_basic/poster-115.jpg'], ['Survive The Game', ' 17%', 'Available Oct 8', 'data/img_basic/poster-116.jpg'], ['South Of Heaven', ' 44%', 'Available Oct 8', 'data/img_basic/poster-117.jpg'], ['Pharma Bro', ' 75%', 'Available Oct 5', 'data/img_basic/poster-118.jpg'], ['Hell Or High Seas', ' 100%', 'Available Oct 12', 'data/img_basic/poster-119.jpg'], ['Implanted', ' 70%', 'Available Oct 1', 'data/img_basic/poster-120.jpg'], ['Vengeance Is Mine', ' 60%', 'Available Oct 8', 'data/img_basic/poster-121.jpg'], ['The Cleaner', ' 83%', 'Available Oct 12', 'data/img_basic/poster-122.jpg'], ['PTSD: The Walking Wounded', ' 100%', 'Available Oct 1', 'data/img_basic/poster-123.jpg'], ['Grave Intentions', ' 67%', 'Available Oct 15', 'data/img_basic/poster-124.jpg'], ['Worth', ' 81%', 'Available Sep 3', 'data/img_basic/poster-125.jpg'], ['The Nowhere Inn', ' 68%', 'Available Sep 17', 'data/img_basic/poster-126.jpg'], ['Swimming Out Till The Sea Turns Blue', ' 76%', 'Available Sep 30', 'data/img_basic/poster-127.jpg'], ['Fully Realized Humans', ' 83%', 'Available Sep 28', 'data/img_basic/poster-128.jpg'], ['Lone Wolf', ' 40%', 'Available Sep 24', 'data/img_basic/poster-129.jpg'], ['The Killing Of Kenneth Chamberlain', ' 97%', 'Available Sep 17', 'data/img_basic/poster-130.jpg'], ['This Is The Year', ' 71%', 'Available Sep 24', 'data/img_basic/poster-131.jpg'], ['Through The Glass Darkly', ' 71%', 'Available Sep 24', 'data/img_basic/poster-132.jpg'], ['The Wonderful: Stories From The Space Station', ' 80%', 'Available Sep 13', 'data/img_basic/poster-133.jpg'], [\"The Big Scary 'S' Word\", ' 87%', 'Available Sep 3', 'data/img_basic/poster-134.jpg'], ['Cinderella', ' 43%', 'Available Sep 3', 'data/img_basic/poster-135.jpg'], ['Prisoners Of The Ghostland', ' 62%', 'Available Sep 17', 'data/img_basic/poster-136.jpg'], ['The Auschwitz Report', ' 100%', 'Available Sep 24', 'data/img_basic/poster-137.jpg'], ['Wild Indian', ' 91%', 'Available Sep 3', 'data/img_basic/poster-138.jpg'], ['Best Sellers', ' 53%', 'Available Sep 17', 'data/img_basic/poster-139.jpg'], ['On These Grounds (Spring Valley)', ' 88%', 'Available Sep 24', 'data/img_basic/poster-140.jpg'], ['Seance', ' 48%', 'Available Sep 29', 'data/img_basic/poster-141.jpg'], ['East Of The Mountains', ' 100%', 'Available Sep 24', 'data/img_basic/poster-142.jpg'], ['Last Night In Rozzie', ' 71%', 'Available Sep 17', 'data/img_basic/poster-143.jpg'], ['All The Streets Are Silent: The Convergence Of Hip Hop And Skateboarding (1987-1997)', ' 89%', 'Available Sep 7', 'data/img_basic/poster-144.jpg'], [\"Bitchin': The Sound And Fury Of Rick James\", ' 100%', 'Available Sep 3', 'data/img_basic/poster-145.jpg'], ['A Dim Valley', ' 60%', 'Available Sep 28', 'data/img_basic/poster-146.jpg'], ['Dating & New York', ' 41%', 'Available Sep 10', 'data/img_basic/poster-147.jpg'], ['Lady Of The Manor', ' 31%', 'Available Sep 17', 'data/img_basic/poster-148.jpg'], ['Collection', ' 17%', 'Available Sep 17', 'data/img_basic/poster-149.jpg'], ['The Influencer', ' 67%', 'Available Sep 14', 'data/img_basic/poster-150.jpg'], ['Bad Candy', ' 50%', 'Available Sep 14', 'data/img_basic/poster-151.jpg'], ['Death Drop Gorgeous', ' 70%', 'Available Sep 10', 'data/img_basic/poster-152.jpg'], ['Another Girl', ' 86%', 'Available Sep 14', 'data/img_basic/poster-153.jpg'], ['This Is The Night', ' 13%', 'Available Sep 21', 'data/img_basic/poster-154.jpg'], [\"When I'M A Moth\", ' 30%', 'Available Aug 27', 'data/img_basic/poster-155.jpg'], ['The Seer And The Unseen', ' 78%', 'Available Aug 17', 'data/img_basic/poster-156.jpg'], ['Rare Beasts', ' 68%', 'Available Aug 20', 'data/img_basic/poster-157.jpg'], ['Really Love', ' 86%', 'Available Aug 25', 'data/img_basic/poster-158.jpg'], ['The Green Knight', ' 89%', 'Available Aug 19', 'data/img_basic/poster-159.jpg'], ['Howling Village (Inunaki Mura)', ' 50%', 'Available Aug 17', 'data/img_basic/poster-160.jpg'], ['PAW Patrol: The Movie', ' 79%', 'Available Aug 20', 'data/img_basic/poster-161.jpg'], ['PVT CHAT', ' 65%', 'Available Aug 24', 'data/img_basic/poster-162.jpg'], ['Missing In Brooks County', ' 100%', 'Available Aug 20', 'data/img_basic/poster-163.jpg'], [\"Ellie And Abbie (And Ellie'S Dead Aunt)\", ' 100%', 'Available Aug 27', 'data/img_basic/poster-164.jpg'], ['Barbara Lee: Speaking Truth To Power', ' 100%', 'Available Aug 20', 'data/img_basic/poster-165.jpg'], ['Cryptozoo', ' 71%', 'Available Aug 20', 'data/img_basic/poster-166.jpg'], ['Reminiscence', ' 37%', 'Available Aug 20', 'data/img_basic/poster-167.jpg'], ['Notorious Nick', ' 20%', 'Available Aug 17', 'data/img_basic/poster-168.jpg'], ['The Colony (Tides)', ' 46%', 'Available Aug 27', 'data/img_basic/poster-169.jpg'], ['Too Late', ' 80%', 'Available Aug 24', 'data/img_basic/poster-170.jpg'], ['Demonic', ' 15%', 'Available Aug 20', 'data/img_basic/poster-171.jpg'], ['No Man Of God', ' 79%', 'Available Aug 27', 'data/img_basic/poster-172.jpg'], ['Behemoth', ' 33%', 'Available Aug 27', 'data/img_basic/poster-173.jpg'], ['Last Man Standing: Suge Knight And The Murders Of Biggie & Tupac', ' 55%', 'Available Aug 20', 'data/img_basic/poster-174.jpg'], ['Habit', ' 6%', 'Available Aug 20', 'data/img_basic/poster-175.jpg'], ['Blood Conscious', ' 78%', 'Available Aug 20', 'data/img_basic/poster-176.jpg'], ['The Last Matinee (Red Screening)', ' 81%', 'Available Aug 24', 'data/img_basic/poster-177.jpg'], ['Zone 414', ' 17%', 'Available Sep 3', 'data/img_basic/poster-178.jpg'], ['The Gateway', ' 53%', 'Available Sep 3', 'data/img_basic/poster-179.jpg'], ['Baby Money', ' 86%', 'Available Aug 31', 'data/img_basic/poster-180.jpg'], ['Yakuza Princess', ' 35%', 'Available Sep 3', 'data/img_basic/poster-181.jpg'], ['Ted Bundy: American Boogeyman', ' 10%', 'Available Sep 3', 'data/img_basic/poster-182.jpg'], ['The Mayberry Effect', ' 80%', 'Available Aug 31', 'data/img_basic/poster-183.jpg'], ['Paper Tiger', ' 80%', 'Available Aug 24', 'data/img_basic/poster-184.jpg'], ['Karen', ' 17%', 'Available Sep 3', 'data/img_basic/poster-185.jpg'], ['The Suicide Squad', ' 90%', 'Available Aug 6', 'data/img_basic/poster-186.jpg'], ['You Will Die At Twenty', ' 89%', 'Available Aug 10', 'data/img_basic/poster-187.jpg'], ['Rising Wolf (Ascendant)', ' 45%', 'Available Aug 10', 'data/img_basic/poster-188.jpg'], ['Curiosa', ' 36%', 'Available Aug 13', 'data/img_basic/poster-189.jpg'], ['Whirlybird', ' 82%', 'Available Aug 6', 'data/img_basic/poster-190.jpg'], ['The American Sector', ' 100%', 'Available Aug 13', 'data/img_basic/poster-191.jpg'], ['Pig', ' 97%', 'Available Aug 3', 'data/img_basic/poster-192.jpg'], ['Enemies Of The State', ' 78%', 'Available Jul 30', 'data/img_basic/poster-193.jpg'], ['John And The Hole', ' 59%', 'Available Aug 6', 'data/img_basic/poster-194.jpg'], ['Materna', ' 71%', 'Available Aug 10', 'data/img_basic/poster-195.jpg'], ['The Meaning Of Hitler', ' 85%', 'Available Aug 13', 'data/img_basic/poster-196.jpg'], ['Twist', ' 9%', 'Available Jul 30', 'data/img_basic/poster-197.jpg'], ['Infinitum: Subject Unknown', ' 75%', 'Available Aug 6', 'data/img_basic/poster-198.jpg'], ['Naked Singularity', ' 27%', 'Available Aug 13', 'data/img_basic/poster-199.jpg'], ['Night Drive', ' 100%', 'Available Aug 6', 'data/img_basic/poster-200.jpg'], ['American Traitor: The Trial Of Axis Sally', ' 14%', 'Available Aug 10', 'data/img_basic/poster-201.jpg'], ['The East', ' 70%', 'Available Aug 13', 'data/img_basic/poster-202.jpg'], ['Crime Story', ' 20%', 'Available Aug 13', 'data/img_basic/poster-203.jpg'], ['Ride The Eagle', ' 81%', 'Available Jul 30', 'data/img_basic/poster-204.jpg'], [\"Buckley'S Chance\", ' 36%', 'Available Aug 13', 'data/img_basic/poster-205.jpg'], ['Sparkling: The Story Of Champagne', ' 80%', 'Available Aug 13', 'data/img_basic/poster-206.jpg'], ['Charming The Hearts Of Men', ' 78%', 'Available Aug 13', 'data/img_basic/poster-207.jpg'], ['Val', ' 93%', 'Available Aug 6', 'data/img_basic/poster-208.jpg'], ['A Dark Foe', ' 60%', 'Available Jul 30', 'data/img_basic/poster-209.jpg'], ['Mondo Hollywoodland', ' 93%', 'Available Aug 3', 'data/img_basic/poster-210.jpg'], ['Queen Of The Beach', ' 75%', 'Available Aug 15', 'data/img_basic/poster-211.jpg'], ['The Legend Of Tayos', ' 100%', 'Available Aug 10', 'data/img_basic/poster-212.jpg'], ['The Shattering', ' 71%', 'Available Aug 3', 'data/img_basic/poster-213.jpg'], ['Rose Plays Julie', ' 95%', 'Available Jul 13', 'data/img_basic/poster-214.jpg'], ['For Madmen Only', ' 92%', 'Available Jul 27', 'data/img_basic/poster-215.jpg'], ['Lorelei', ' 89%', 'Available Jul 30', 'data/img_basic/poster-216.jpg'], ['Sweat', ' 98%', 'Available Jul 23', 'data/img_basic/poster-217.jpg'], ['Mandibles (Mandibules)', ' 92%', 'Available Jul 23', 'data/img_basic/poster-218.jpg'], ['The Exchange', ' 67%', 'Available Jul 30', 'data/img_basic/poster-219.jpg'], ['Meander', ' 75%', 'Available Jul 9', 'data/img_basic/poster-220.jpg'], ['How It Ends', ' 66%', 'Available Jul 20', 'data/img_basic/poster-221.jpg'], ['Long Story Short', ' 50%', 'Available Jul 2', 'data/img_basic/poster-222.jpg'], ['Werewolves Within', ' 86%', 'Available Jul 2', 'data/img_basic/poster-223.jpg'], ['Kid Candidate', ' 78%', 'Available Jul 2', 'data/img_basic/poster-224.jpg'], ['The Loneliest Whale: The Search For 52', ' 87%', 'Available Jul 16', 'data/img_basic/poster-225.jpg'], ['Settlers', ' 53%', 'Available Jul 23', 'data/img_basic/poster-226.jpg'], ['The House Next Door: Meet The Blacks 2', ' 17%', 'Available Jul 9', 'data/img_basic/poster-227.jpg'], ['Great White', ' 39%', 'Available Jul 16', 'data/img_basic/poster-228.jpg'], ['Till Death', ' 89%', 'Available Jul 2', 'data/img_basic/poster-229.jpg'], ['The Phantom', ' 100%', 'Available Jul 2', 'data/img_basic/poster-230.jpg'], ['Danny. Legend. God.', ' 89%', 'Available Jul 20', 'data/img_basic/poster-231.jpg'], ['Marathon', ' 95%', 'Available Jul 6', 'data/img_basic/poster-232.jpg'], ['The Nest', ' 89%', 'Available Jul 20', 'data/img_basic/poster-233.jpg'], ['Running Against The Wind', ' 56%', 'Available Jul 9', 'data/img_basic/poster-234.jpg'], ['Midnight In The Switchgrass', ' 8%', 'Available Jul 23', 'data/img_basic/poster-235.jpg'], ['Die In A Gunfight', ' 17%', 'Available Jul 16', 'data/img_basic/poster-236.jpg'], ['Batman: The Long Halloween, Part Two', ' 100%', 'Available Jul 27', 'data/img_basic/poster-237.jpg'], ['We Intend To Cause Havoc', ' 83%', 'Available Jul 13', 'data/img_basic/poster-238.jpg'], ['Here After', ' 30%', 'Available Jul 23', 'data/img_basic/poster-239.jpg'], ['River', ' 20%', 'Available Jul 13', 'data/img_basic/poster-240.jpg'], ['The Body Fights Back', ' 86%', 'Available Jul 13', 'data/img_basic/poster-241.jpg'], ['Toofaan', ' 53%', 'Available Jul 16', 'data/img_basic/poster-242.jpg'], ['The New Bauhaus', ' 100%', 'Available Jul 13', 'data/img_basic/poster-243.jpg'], ['Ice Guardians', ' 100%', 'Available Jun 8', 'data/img_basic/poster-244.jpg'], ['Steps', ' 93%', 'Available Jun 18', 'data/img_basic/poster-245.jpg'], ['Dead Pigs', ' 97%', 'Available Jun 18', 'data/img_basic/poster-246.jpg'], ['Dream Horse', ' 88%', 'Available Jun 11', 'data/img_basic/poster-247.jpg'], ['Lydia Lunch: The War Is Never Over', ' 94%', 'Available Jun 30', 'data/img_basic/poster-248.jpg'], [\"My Heart Can'T Beat Unless You Tell It To\", ' 98%', 'Available Jun 25', 'data/img_basic/poster-249.jpg'], ['The Oak Room', ' 90%', 'Available Jun 1', 'data/img_basic/poster-250.jpg'], ['Stalker', ' 92%', 'Available Jun 18', 'data/img_basic/poster-251.jpg'], ['The Man Who Sold His Skin', ' 91%', 'Available Jun 22', 'data/img_basic/poster-252.jpg'], [\"Akilla'S Escape\", ' 84%', 'Available Jun 11', 'data/img_basic/poster-253.jpg'], ['Luca', ' 91%', 'Available Jun 18', 'data/img_basic/poster-254.jpg'], ['My Tender Matador (Tengo Miedo Torero)', ' 100%', 'Available Jun 4', 'data/img_basic/poster-255.jpg'], ['Say Your Prayers', ' 100%', 'Available Jun 1', 'data/img_basic/poster-256.jpg'], ['Escape From Extinction', ' 57%', 'Available Jun 8', 'data/img_basic/poster-257.jpg'], ['Silent Night', ' 50%', 'Available Jun 25', 'data/img_basic/poster-258.jpg'], ['First Date', ' 53%', 'Available Jul 2', 'data/img_basic/poster-259.jpg'], ['Censor', ' 89%', 'Available Jun 18', 'data/img_basic/poster-260.jpg'], ['Batman: The Long Halloween, Part One', ' 100%', 'Available Jun 22', 'data/img_basic/poster-261.jpg'], ['Gaia', ' 84%', 'Available Jun 25', 'data/img_basic/poster-262.jpg'], ['Spirit Untamed', ' 50%', 'Available Jun 25', 'data/img_basic/poster-263.jpg'], ['The Evil Next Door (The Other Side)', ' 33%', 'Available Jun 25', 'data/img_basic/poster-264.jpg'], ['Forget Everything And Run (F.E.A.R.)', ' 43%', 'Available Jun 15', 'data/img_basic/poster-265.jpg'], ['A Perfect Enemy', ' 86%', 'Available Jun 11', 'data/img_basic/poster-266.jpg'], ['Rogue Hostage', ' 0%', 'Available Jun 11', 'data/img_basic/poster-267.jpg'], ['Death In Texas', ' 22%', 'Available Jun 4', 'data/img_basic/poster-268.jpg'], ['Hamlet/Horatio', ' 60%', 'Available Jun 1', 'data/img_basic/poster-269.jpg'], ['Lansky', ' 55%', 'Available Jun 25', 'data/img_basic/poster-270.jpg'], ['The Birthday Cake', ' 23%', 'Available Jun 18', 'data/img_basic/poster-271.jpg'], ['Untitled Horror Movie', ' 83%', 'Available Jun 12', 'data/img_basic/poster-272.jpg']]\n"
     ]
    }
   ],
   "source": [
    "print(dataList)"
   ]
  },
  {
   "cell_type": "code",
   "execution_count": 73,
   "metadata": {},
   "outputs": [],
   "source": [
    "MoreStreamingTitles = pd.DataFrame(dataList, columns=[\"title\", \"rating\", \"available\", \"img\"])"
   ]
  },
  {
   "cell_type": "code",
   "execution_count": 74,
   "metadata": {},
   "outputs": [
    {
     "data": {
      "text/html": [
       "<div>\n",
       "<style scoped>\n",
       "    .dataframe tbody tr th:only-of-type {\n",
       "        vertical-align: middle;\n",
       "    }\n",
       "\n",
       "    .dataframe tbody tr th {\n",
       "        vertical-align: top;\n",
       "    }\n",
       "\n",
       "    .dataframe thead th {\n",
       "        text-align: right;\n",
       "    }\n",
       "</style>\n",
       "<table border=\"1\" class=\"dataframe\">\n",
       "  <thead>\n",
       "    <tr style=\"text-align: right;\">\n",
       "      <th></th>\n",
       "      <th>title</th>\n",
       "      <th>rating</th>\n",
       "      <th>available</th>\n",
       "      <th>img</th>\n",
       "    </tr>\n",
       "  </thead>\n",
       "  <tbody>\n",
       "    <tr>\n",
       "      <th>153</th>\n",
       "      <td>This Is The Night</td>\n",
       "      <td>13%</td>\n",
       "      <td>Available Sep 21</td>\n",
       "      <td>data/img_basic/poster-154.jpg</td>\n",
       "    </tr>\n",
       "    <tr>\n",
       "      <th>44</th>\n",
       "      <td>Captains Of Za'Atari</td>\n",
       "      <td>94%</td>\n",
       "      <td>Available Nov 19</td>\n",
       "      <td>data/img_basic/poster-45.jpg</td>\n",
       "    </tr>\n",
       "    <tr>\n",
       "      <th>243</th>\n",
       "      <td>Ice Guardians</td>\n",
       "      <td>100%</td>\n",
       "      <td>Available Jun 8</td>\n",
       "      <td>data/img_basic/poster-244.jpg</td>\n",
       "    </tr>\n",
       "    <tr>\n",
       "      <th>156</th>\n",
       "      <td>Rare Beasts</td>\n",
       "      <td>68%</td>\n",
       "      <td>Available Aug 20</td>\n",
       "      <td>data/img_basic/poster-157.jpg</td>\n",
       "    </tr>\n",
       "    <tr>\n",
       "      <th>102</th>\n",
       "      <td>Sophie Jones</td>\n",
       "      <td>100%</td>\n",
       "      <td>Available Oct 12</td>\n",
       "      <td>data/img_basic/poster-103.jpg</td>\n",
       "    </tr>\n",
       "  </tbody>\n",
       "</table>\n",
       "</div>"
      ],
      "text/plain": [
       "                    title rating         available  \\\n",
       "153     This Is The Night    13%  Available Sep 21   \n",
       "44   Captains Of Za'Atari    94%  Available Nov 19   \n",
       "243         Ice Guardians   100%   Available Jun 8   \n",
       "156           Rare Beasts    68%  Available Aug 20   \n",
       "102          Sophie Jones   100%  Available Oct 12   \n",
       "\n",
       "                               img  \n",
       "153  data/img_basic/poster-154.jpg  \n",
       "44    data/img_basic/poster-45.jpg  \n",
       "243  data/img_basic/poster-244.jpg  \n",
       "156  data/img_basic/poster-157.jpg  \n",
       "102  data/img_basic/poster-103.jpg  "
      ]
     },
     "execution_count": 74,
     "metadata": {},
     "output_type": "execute_result"
    }
   ],
   "source": [
    "MoreStreamingTitles.sample(5)"
   ]
  },
  {
   "cell_type": "code",
   "execution_count": 75,
   "metadata": {},
   "outputs": [],
   "source": [
    "MoreStreamingTitles.to_csv('data/titlesDataRaw_extended.csv', sep=',')"
   ]
  },
  {
   "cell_type": "markdown",
   "metadata": {},
   "source": [
    "**Steps 4, 5 and 6 are identical to the \"one page simple scraping\" example**"
   ]
  },
  {
   "cell_type": "code",
   "execution_count": 76,
   "metadata": {},
   "outputs": [],
   "source": [
    "#Ultimately, once we got everything we were interested in, we need to quit our WebDriver to avoid sessions piling up\n",
    "driver.quit()"
   ]
  },
  {
   "cell_type": "markdown",
   "metadata": {},
   "source": [
    "### Conclusion\n",
    "\n",
    "Each website is different, therefore scraping is often a tailored activity that requires some coding and strategizing effort. This tutorial presented some simple features and a couple of useful patterns if you need to scrape a relatively contained amount of data. There are more complex and articulated tasks that require more savviness, time and computing effort. One example are social media. For special or recurring cases there's a useful collection of tools that can be found [here](https://wiki.digitalmethods.net/Dmi/ToolDatabase)."
   ]
  },
  {
   "cell_type": "markdown",
   "metadata": {},
   "source": [
    "### References\n",
    "\n",
    "1. Guide to Selenium basic functions for scraping: https://www.scrapingbee.com/blog/selenium-python/\n",
    "2. Including WebDriver location in MacOS System Path: https://www.kenst.com/2015/03/including-the-chromedriver-location-in-macos-system-path/\n",
    "3. Data Science Skills Set: https://francesco-ai.medium.com/data-science-skills-list-9f38863adab5\n",
    "4. DMI Tools Database: https://wiki.digitalmethods.net/Dmi/ToolDatabase"
   ]
  },
  {
   "cell_type": "code",
   "execution_count": null,
   "metadata": {},
   "outputs": [],
   "source": []
  }
 ],
 "metadata": {
  "kernelspec": {
   "display_name": "Python 3",
   "language": "python",
   "name": "python3"
  },
  "language_info": {
   "codemirror_mode": {
    "name": "ipython",
    "version": 3
   },
   "file_extension": ".py",
   "mimetype": "text/x-python",
   "name": "python",
   "nbconvert_exporter": "python",
   "pygments_lexer": "ipython3",
   "version": "3.7.6"
  }
 },
 "nbformat": 4,
 "nbformat_minor": 4
}
