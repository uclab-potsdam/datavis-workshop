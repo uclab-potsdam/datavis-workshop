{
 "cells": [
  {
   "cell_type": "markdown",
   "metadata": {},
   "source": [
    "## Advanced scraping for detailed movies data"
   ]
  },
  {
   "cell_type": "markdown",
   "metadata": {},
   "source": [
    "This notebook contains the code to scrape detailed movies information from Rotten Tomatoes. Instead of only gathering information from the main page it collects all the links and then loops through them to gather information. This way we are also able to access movie genres, scores and complete release dates. The data gathered through this script will later be used in the data cleaning tutorial."
   ]
  },
  {
   "cell_type": "markdown",
   "metadata": {},
   "source": [
    "**Step 1: import**"
   ]
  },
  {
   "cell_type": "code",
   "execution_count": 81,
   "metadata": {},
   "outputs": [],
   "source": [
    "from selenium import webdriver\n",
    "from selenium.webdriver.chrome.options import Options\n",
    "from webdriver_manager.chrome import ChromeDriverManager\n",
    "\n",
    "# This chunk of imports is useful to catch exceptions and clock our script\n",
    "from selenium.common.exceptions import NoSuchElementException, TimeoutException\n",
    "from selenium.webdriver.common.desired_capabilities import DesiredCapabilities\n",
    "from selenium.webdriver.support.ui import WebDriverWait\n",
    "from selenium.webdriver.support import expected_conditions as EC\n",
    "from selenium.webdriver.common.by import By\n",
    "import time\n",
    "\n",
    "\n",
    "import urllib.request\n",
    "import requests\n",
    "\n",
    "import pandas as pd"
   ]
  },
  {
   "cell_type": "markdown",
   "metadata": {},
   "source": [
    "**Step 2: start Chrome webdriver session**"
   ]
  },
  {
   "cell_type": "code",
   "execution_count": 82,
   "metadata": {
    "scrolled": true
   },
   "outputs": [
    {
     "name": "stderr",
     "output_type": "stream",
     "text": [
      "\n",
      "\n",
      "====== WebDriver manager ======\n",
      "Current google-chrome version is 96.0.4664\n",
      "Get LATEST chromedriver version for 96.0.4664 google-chrome\n",
      "Driver [/Users/arran/.wdm/drivers/chromedriver/mac64/96.0.4664.45/chromedriver] found in cache\n",
      "/Users/arran/opt/anaconda3/lib/python3.7/site-packages/ipykernel_launcher.py:9: DeprecationWarning: executable_path has been deprecated, please pass in a Service object\n",
      "  if __name__ == '__main__':\n"
     ]
    },
    {
     "name": "stdout",
     "output_type": "stream",
     "text": [
      "done\n"
     ]
    }
   ],
   "source": [
    "# Start Chrome\n",
    "options = Options()\n",
    "# options.headless = True\n",
    "options.add_argument(\"--window-size=1920,1200\")\n",
    "\n",
    "capa = DesiredCapabilities.CHROME\n",
    "capa[\"pageLoadStrategy\"] = \"none\"\n",
    "\n",
    "driver = webdriver.Chrome(executable_path=ChromeDriverManager().install(), options=options, desired_capabilities=capa)\n",
    "\n",
    "\n",
    "driver.get(\"https://www.rottentomatoes.com/browse/dvd-streaming-all\")\n",
    "# print(driver.page_source)\n",
    "print('done')"
   ]
  },
  {
   "cell_type": "markdown",
   "metadata": {},
   "source": [
    "**Step 3: Get movies**"
   ]
  },
  {
   "cell_type": "code",
   "execution_count": 83,
   "metadata": {},
   "outputs": [
    {
     "name": "stdout",
     "output_type": "stream",
     "text": [
      "clicked on \"show more\" button 0 times.\n",
      "clicked on \"show more\" button 1 times.\n",
      "clicked on \"show more\" button 2 times.\n",
      "clicked on \"show more\" button 3 times.\n",
      "clicked on \"show more\" button 4 times.\n",
      "clicked on \"show more\" button 5 times.\n",
      "clicked on \"show more\" button 6 times.\n",
      "clicked on \"show more\" button 7 times.\n",
      "clicked on \"show more\" button 8 times.\n",
      "clicked on \"show more\" button 9 times.\n"
     ]
    }
   ],
   "source": [
    "#Get page with movies\n",
    "driver.get(\"https://www.rottentomatoes.com/browse/dvd-streaming-all\")\n",
    "pageExpandLimit = 0\n",
    "links = []\n",
    "\n",
    "#Start while loop to fake click interaction and collect urls.\n",
    "while True:\n",
    "    print('clicked on \"show more\" button {0} times.'.format(pageExpandLimit))\n",
    "    pageExpandLimit = pageExpandLimit + 1 \n",
    "    # This can be remove if it ends up taking too much space.\n",
    "    driver.save_screenshot(\"screenshots/screenshot{0}.png\".format(pageExpandLimit))\n",
    "    \n",
    "    if pageExpandLimit < 10:\n",
    "        \n",
    "        time.sleep(5)\n",
    "        driver.find_element(By.CLASS_NAME, 'mb-load-btn').click()  \n",
    "        moreMovies = driver.find_elements(By.CLASS_NAME, 'mb-movie')\n",
    "        \n",
    "    if pageExpandLimit >= 10:\n",
    "        # Appending only links to an empty list\n",
    "        for movie in moreMovies:\n",
    "            link = movie.find_element_by_tag_name(\"a\")\n",
    "            href = link.get_attribute(\"href\")\n",
    "            links.append(href)\n",
    "            \n",
    "        break"
   ]
  },
  {
   "cell_type": "code",
   "execution_count": 85,
   "metadata": {},
   "outputs": [
    {
     "data": {
      "text/plain": [
       "311"
      ]
     },
     "execution_count": 85,
     "metadata": {},
     "output_type": "execute_result"
    }
   ],
   "source": [
    "#Check if links is full\n",
    "len(links)"
   ]
  },
  {
   "cell_type": "code",
   "execution_count": 86,
   "metadata": {
    "scrolled": true
   },
   "outputs": [
    {
     "data": {
      "text/plain": [
       "['https://www.rottentomatoes.com/m/rumble_2021',\n",
       " 'https://www.rottentomatoes.com/m/hurt_2021',\n",
       " 'https://www.rottentomatoes.com/m/mosley',\n",
       " 'https://www.rottentomatoes.com/m/benedetta',\n",
       " 'https://www.rottentomatoes.com/m/last_words',\n",
       " 'https://www.rottentomatoes.com/m/saint_narcisse',\n",
       " 'https://www.rottentomatoes.com/m/try_harder',\n",
       " 'https://www.rottentomatoes.com/m/back_to_the_outback',\n",
       " 'https://www.rottentomatoes.com/m/the_scary_of_sixty_first',\n",
       " 'https://www.rottentomatoes.com/m/sensation_2021',\n",
       " 'https://www.rottentomatoes.com/m/red_snow_2021',\n",
       " 'https://www.rottentomatoes.com/m/the_novice_2021',\n",
       " 'https://www.rottentomatoes.com/m/even_mice_belong_in_heaven',\n",
       " 'https://www.rottentomatoes.com/m/the_lost_daughter',\n",
       " 'https://www.rottentomatoes.com/m/the_hand_of_god',\n",
       " 'https://www.rottentomatoes.com/m/encounter_2021',\n",
       " 'https://www.rottentomatoes.com/m/null',\n",
       " 'https://www.rottentomatoes.com/m/the_united_states_of_insanity',\n",
       " 'https://www.rottentomatoes.com/m/the_unforgivable',\n",
       " 'https://www.rottentomatoes.com/m/being_the_ricardos',\n",
       " 'https://www.rottentomatoes.com/m/the_hating_game',\n",
       " 'https://www.rottentomatoes.com/m/portal_runner',\n",
       " 'https://www.rottentomatoes.com/m/swan_song_2021_2',\n",
       " 'https://www.rottentomatoes.com/m/mother_android',\n",
       " 'https://www.rottentomatoes.com/m/project_space_13',\n",
       " 'https://www.rottentomatoes.com/m/joy_womack_the_white_swan',\n",
       " 'https://www.rottentomatoes.com/m/the_last_son',\n",
       " 'https://www.rottentomatoes.com/m/boxing_day_2021',\n",
       " 'https://www.rottentomatoes.com/m/margrete_queen_of_the_north',\n",
       " 'https://www.rottentomatoes.com/m/minnal_murali',\n",
       " 'https://www.rottentomatoes.com/m/harry_potter_20th_anniversary_return_to_hogwarts',\n",
       " 'https://www.rottentomatoes.com/m/beanie_mania',\n",
       " 'https://www.rottentomatoes.com/m/clifford_the_big_red_dog',\n",
       " 'https://www.rottentomatoes.com/m/bugs_2016',\n",
       " 'https://www.rottentomatoes.com/m/they_say_nothing_stays_the_same',\n",
       " 'https://www.rottentomatoes.com/m/climate_of_the_hunter',\n",
       " 'https://www.rottentomatoes.com/m/broken_law_2020',\n",
       " 'https://www.rottentomatoes.com/m/violet_2021',\n",
       " 'https://www.rottentomatoes.com/m/freeland',\n",
       " 'https://www.rottentomatoes.com/m/gustav_stickley_american_craftsman',\n",
       " 'https://www.rottentomatoes.com/m/she_paradise',\n",
       " 'https://www.rottentomatoes.com/m/a_gift_from_bob',\n",
       " 'https://www.rottentomatoes.com/m/karen_dalton_in_my_own_time',\n",
       " 'https://www.rottentomatoes.com/m/night_raiders_2021',\n",
       " 'https://www.rottentomatoes.com/m/captains_of_zaatari',\n",
       " 'https://www.rottentomatoes.com/m/king_richard',\n",
       " 'https://www.rottentomatoes.com/m/the_beta_test',\n",
       " 'https://www.rottentomatoes.com/m/the_feast_2021',\n",
       " 'https://www.rottentomatoes.com/m/mark_mary_and_some_other_people',\n",
       " 'https://www.rottentomatoes.com/m/brian_wilson_long_promised_road',\n",
       " 'https://www.rottentomatoes.com/m/13_minutes_2021',\n",
       " 'https://www.rottentomatoes.com/m/the_drummer_2021',\n",
       " 'https://www.rottentomatoes.com/m/kurt_vonnegut_unstuck_in_time',\n",
       " 'https://www.rottentomatoes.com/m/zeros_and_ones',\n",
       " 'https://www.rottentomatoes.com/m/soulmates',\n",
       " 'https://www.rottentomatoes.com/m/motherly',\n",
       " 'https://www.rottentomatoes.com/m/the_last_days_of_capitalism',\n",
       " 'https://www.rottentomatoes.com/m/black_friday_2021',\n",
       " 'https://www.rottentomatoes.com/m/apex_2021',\n",
       " 'https://www.rottentomatoes.com/m/see_you_next_christmas',\n",
       " 'https://www.rottentomatoes.com/m/alpha_rift',\n",
       " 'https://www.rottentomatoes.com/m/two_yellow_lines',\n",
       " 'https://www.rottentomatoes.com/m/repeat',\n",
       " 'https://www.rottentomatoes.com/m/that_cold_dead_look_in_your_eyes',\n",
       " 'https://www.rottentomatoes.com/m/dune_2021',\n",
       " 'https://www.rottentomatoes.com/m/the_capote_tapes',\n",
       " 'https://www.rottentomatoes.com/m/de_gaulle',\n",
       " 'https://www.rottentomatoes.com/m/red_heaven',\n",
       " 'https://www.rottentomatoes.com/m/blizzard_of_souls',\n",
       " 'https://www.rottentomatoes.com/m/keyboard_fantasies',\n",
       " 'https://www.rottentomatoes.com/m/the_estate_2021',\n",
       " 'https://www.rottentomatoes.com/m/the_end_of_the_storm',\n",
       " 'https://www.rottentomatoes.com/m/knocking_2021',\n",
       " 'https://www.rottentomatoes.com/m/bergman_island_2021',\n",
       " 'https://www.rottentomatoes.com/m/son_of_monarchs',\n",
       " 'https://www.rottentomatoes.com/m/at_the_ready',\n",
       " 'https://www.rottentomatoes.com/m/broadcast_signal_intrusion',\n",
       " 'https://www.rottentomatoes.com/m/the_spine_of_night',\n",
       " 'https://www.rottentomatoes.com/m/tango_shalom',\n",
       " 'https://www.rottentomatoes.com/m/ida_red',\n",
       " 'https://www.rottentomatoes.com/m/after_we_fell',\n",
       " 'https://www.rottentomatoes.com/m/finding_kendrick_johnson',\n",
       " 'https://www.rottentomatoes.com/m/snakehead',\n",
       " 'https://www.rottentomatoes.com/m/mothers_of_the_revolution',\n",
       " 'https://www.rottentomatoes.com/m/joy_ride_2021',\n",
       " 'https://www.rottentomatoes.com/m/warning_2021',\n",
       " 'https://www.rottentomatoes.com/m/the_village_detective_a_song_cycle',\n",
       " 'https://www.rottentomatoes.com/m/dangerous',\n",
       " 'https://www.rottentomatoes.com/m/night_at_the_eagle_inn',\n",
       " 'https://www.rottentomatoes.com/m/one_shot_2021',\n",
       " 'https://www.rottentomatoes.com/m/outlier_2021',\n",
       " 'https://www.rottentomatoes.com/m/the_deep_house',\n",
       " 'https://www.rottentomatoes.com/m/isolation_2021',\n",
       " 'https://www.rottentomatoes.com/m/bigfoot_famous',\n",
       " 'https://www.rottentomatoes.com/m/alice_is_still_dead',\n",
       " 'https://www.rottentomatoes.com/m/needle_in_a_timestack',\n",
       " 'https://www.rottentomatoes.com/m/halloween_kills',\n",
       " 'https://www.rottentomatoes.com/m/held_for_ransom',\n",
       " 'https://www.rottentomatoes.com/m/the_many_saints_of_newark',\n",
       " 'https://www.rottentomatoes.com/m/in_full_bloom',\n",
       " 'https://www.rottentomatoes.com/m/adventures_of_a_mathematician',\n",
       " 'https://www.rottentomatoes.com/m/the_old_ways_2021',\n",
       " 'https://www.rottentomatoes.com/m/the_addams_family_2',\n",
       " 'https://www.rottentomatoes.com/m/sophie_jones',\n",
       " 'https://www.rottentomatoes.com/m/mayday_2021',\n",
       " 'https://www.rottentomatoes.com/m/coming_home_in_the_dark',\n",
       " 'https://www.rottentomatoes.com/m/the_blazing_world_2021',\n",
       " 'https://www.rottentomatoes.com/m/im_your_man_2021',\n",
       " 'https://www.rottentomatoes.com/m/witch_hunt_2021',\n",
       " 'https://www.rottentomatoes.com/m/stop_and_go',\n",
       " 'https://www.rottentomatoes.com/m/not_going_quietly',\n",
       " 'https://www.rottentomatoes.com/m/the_gig_is_up',\n",
       " 'https://www.rottentomatoes.com/m/falling_for_figaro',\n",
       " 'https://www.rottentomatoes.com/m/american_insurrection',\n",
       " 'https://www.rottentomatoes.com/m/live_at_mister_kellys',\n",
       " 'https://www.rottentomatoes.com/m/demigod',\n",
       " 'https://www.rottentomatoes.com/m/american_night',\n",
       " 'https://www.rottentomatoes.com/m/survive_the_game',\n",
       " 'https://www.rottentomatoes.com/m/south_of_heaven_2021',\n",
       " 'https://www.rottentomatoes.com/m/runt_2021',\n",
       " 'https://www.rottentomatoes.com/m/pharma_bro',\n",
       " 'https://www.rottentomatoes.com/m/hell_or_high_seas',\n",
       " 'https://www.rottentomatoes.com/m/vengeance_is_mine_2021',\n",
       " 'https://www.rottentomatoes.com/m/the_cleaner_2021',\n",
       " 'https://www.rottentomatoes.com/m/dashcam_2021',\n",
       " 'https://www.rottentomatoes.com/m/grave_intentions',\n",
       " 'https://www.rottentomatoes.com/m/christmas_on_the_carousel',\n",
       " 'https://www.rottentomatoes.com/m/the_nowhere_inn',\n",
       " 'https://www.rottentomatoes.com/m/swimming_out_till_the_sea_turns_blue',\n",
       " 'https://www.rottentomatoes.com/m/fully_realized_humans',\n",
       " 'https://www.rottentomatoes.com/m/lone_wolf_2021',\n",
       " 'https://www.rottentomatoes.com/m/the_killing_of_kenneth_chamberlain',\n",
       " 'https://www.rottentomatoes.com/m/this_is_the_year',\n",
       " 'https://www.rottentomatoes.com/m/through_the_glass_darkly',\n",
       " 'https://www.rottentomatoes.com/m/the_wonderful_stories_from_the_space_station',\n",
       " 'https://www.rottentomatoes.com/m/the_big_scary_s_word',\n",
       " 'https://www.rottentomatoes.com/m/cinderella_2021',\n",
       " 'https://www.rottentomatoes.com/m/prisoners_of_the_ghostland',\n",
       " 'https://www.rottentomatoes.com/m/the_auschwitz_report',\n",
       " 'https://www.rottentomatoes.com/m/wild_indian',\n",
       " 'https://www.rottentomatoes.com/m/best_sellers',\n",
       " 'https://www.rottentomatoes.com/m/on_these_grounds',\n",
       " 'https://www.rottentomatoes.com/m/seance_2021',\n",
       " 'https://www.rottentomatoes.com/m/east_of_the_mountains',\n",
       " 'https://www.rottentomatoes.com/m/last_night_in_rozzie',\n",
       " 'https://www.rottentomatoes.com/m/all_the_streets_are_silent',\n",
       " 'https://www.rottentomatoes.com/m/bitchin_the_sound_and_fury_of_rick_james',\n",
       " 'https://www.rottentomatoes.com/m/a_dim_valley',\n",
       " 'https://www.rottentomatoes.com/m/we_need_to_do_something',\n",
       " 'https://www.rottentomatoes.com/m/dating_and_new_york',\n",
       " 'https://www.rottentomatoes.com/m/lady_of_the_manor',\n",
       " 'https://www.rottentomatoes.com/m/collection',\n",
       " 'https://www.rottentomatoes.com/m/the_influencer',\n",
       " 'https://www.rottentomatoes.com/m/bad_candy',\n",
       " 'https://www.rottentomatoes.com/m/death_drop_gorgeous',\n",
       " 'https://www.rottentomatoes.com/m/another_girl_2021',\n",
       " 'https://www.rottentomatoes.com/m/this_is_the_night_2021',\n",
       " 'https://www.rottentomatoes.com/m/when_im_a_moth',\n",
       " 'https://www.rottentomatoes.com/m/the_seer_and_the_unseen',\n",
       " 'https://www.rottentomatoes.com/m/rare_beasts',\n",
       " 'https://www.rottentomatoes.com/m/really_love',\n",
       " 'https://www.rottentomatoes.com/m/the_green_knight',\n",
       " 'https://www.rottentomatoes.com/m/howling_village',\n",
       " 'https://www.rottentomatoes.com/m/paw_patrol_the_movie',\n",
       " 'https://www.rottentomatoes.com/m/pvt_chat',\n",
       " 'https://www.rottentomatoes.com/m/missing_in_brooks_county',\n",
       " 'https://www.rottentomatoes.com/m/ellie_and_abbie',\n",
       " 'https://www.rottentomatoes.com/m/barbara_lee_speaking_truth_to_power',\n",
       " 'https://www.rottentomatoes.com/m/cryptozoo',\n",
       " 'https://www.rottentomatoes.com/m/reminiscence_2021',\n",
       " 'https://www.rottentomatoes.com/m/notorious_nick',\n",
       " 'https://www.rottentomatoes.com/m/the_colony_2021',\n",
       " 'https://www.rottentomatoes.com/m/too_late_2021',\n",
       " 'https://www.rottentomatoes.com/m/demonic_2021',\n",
       " 'https://www.rottentomatoes.com/m/no_man_of_god',\n",
       " 'https://www.rottentomatoes.com/m/behemoth_2021',\n",
       " 'https://www.rottentomatoes.com/m/last_man_standing_2021',\n",
       " 'https://www.rottentomatoes.com/m/habit_2021',\n",
       " 'https://www.rottentomatoes.com/m/blood_conscious',\n",
       " 'https://www.rottentomatoes.com/m/the_last_matinee',\n",
       " 'https://www.rottentomatoes.com/m/zone_414',\n",
       " 'https://www.rottentomatoes.com/m/the_gateway_2021',\n",
       " 'https://www.rottentomatoes.com/m/baby_money',\n",
       " 'https://www.rottentomatoes.com/m/yakuza_princess',\n",
       " 'https://www.rottentomatoes.com/m/ted_bundy_american_boogeyman',\n",
       " 'https://www.rottentomatoes.com/m/the_mayberry_effect',\n",
       " 'https://www.rottentomatoes.com/m/paper_tiger_2020',\n",
       " 'https://www.rottentomatoes.com/m/karen_2021',\n",
       " 'https://www.rottentomatoes.com/m/the_suicide_squad',\n",
       " 'https://www.rottentomatoes.com/m/you_will_die_at_twenty',\n",
       " 'https://www.rottentomatoes.com/m/rising_wolf',\n",
       " 'https://www.rottentomatoes.com/m/curiosa',\n",
       " 'https://www.rottentomatoes.com/m/whirlybird',\n",
       " 'https://www.rottentomatoes.com/m/the_american_sector',\n",
       " 'https://www.rottentomatoes.com/m/pig_2021',\n",
       " 'https://www.rottentomatoes.com/m/enemies_of_the_state',\n",
       " 'https://www.rottentomatoes.com/m/lorelei',\n",
       " 'https://www.rottentomatoes.com/m/john_and_the_hole',\n",
       " 'https://www.rottentomatoes.com/m/never_gonna_snow_again',\n",
       " 'https://www.rottentomatoes.com/m/tailgate',\n",
       " 'https://www.rottentomatoes.com/m/materna',\n",
       " 'https://www.rottentomatoes.com/m/the_meaning_of_hitler',\n",
       " 'https://www.rottentomatoes.com/m/under_the_volcano_2021',\n",
       " 'https://www.rottentomatoes.com/m/infinitum_subject_unknown',\n",
       " 'https://www.rottentomatoes.com/m/naked_singularity',\n",
       " 'https://www.rottentomatoes.com/m/night_drive_2021',\n",
       " 'https://www.rottentomatoes.com/m/american_traitor_the_trial_of_axis_sally',\n",
       " 'https://www.rottentomatoes.com/m/the_east_2021',\n",
       " 'https://www.rottentomatoes.com/m/crime_story_2021',\n",
       " 'https://www.rottentomatoes.com/m/buckleys_chance',\n",
       " 'https://www.rottentomatoes.com/m/sparkling_the_story_of_champagne',\n",
       " 'https://www.rottentomatoes.com/m/charming_the_hearts_of_men',\n",
       " 'https://www.rottentomatoes.com/m/val',\n",
       " 'https://www.rottentomatoes.com/m/mondo_hollywoodland',\n",
       " 'https://www.rottentomatoes.com/m/queen_of_the_beach',\n",
       " 'https://www.rottentomatoes.com/m/the_land_of_owls',\n",
       " 'https://www.rottentomatoes.com/m/overrun_2021',\n",
       " 'https://www.rottentomatoes.com/m/the_legend_of_tayos',\n",
       " 'https://www.rottentomatoes.com/m/the_shattering_2021',\n",
       " 'https://www.rottentomatoes.com/m/rose_plays_julie',\n",
       " 'https://www.rottentomatoes.com/m/for_madmen_only',\n",
       " 'https://www.rottentomatoes.com/m/sweat_2020',\n",
       " 'https://www.rottentomatoes.com/m/mandibles',\n",
       " 'https://www.rottentomatoes.com/m/meander',\n",
       " 'https://www.rottentomatoes.com/m/how_it_ends_2021',\n",
       " 'https://www.rottentomatoes.com/m/twist_2021',\n",
       " 'https://www.rottentomatoes.com/m/long_story_short_2021',\n",
       " 'https://www.rottentomatoes.com/m/werewolves_within',\n",
       " 'https://www.rottentomatoes.com/m/kid_candidate',\n",
       " 'https://www.rottentomatoes.com/m/the_loneliest_whale_the_search_for_52',\n",
       " 'https://www.rottentomatoes.com/m/settlers_2021',\n",
       " 'https://www.rottentomatoes.com/m/the_house_next_door_meet_the_blacks_2',\n",
       " 'https://www.rottentomatoes.com/m/great_white',\n",
       " 'https://www.rottentomatoes.com/m/till_death_2021',\n",
       " 'https://www.rottentomatoes.com/m/the_phantom_2021',\n",
       " 'https://www.rottentomatoes.com/m/danny_legend_god',\n",
       " 'https://www.rottentomatoes.com/m/marathon_2021',\n",
       " 'https://www.rottentomatoes.com/m/the_nest_2021',\n",
       " 'https://www.rottentomatoes.com/m/running_against_the_wind',\n",
       " 'https://www.rottentomatoes.com/m/midnight_in_the_switchgrass',\n",
       " 'https://www.rottentomatoes.com/m/die_in_a_gunfight',\n",
       " 'https://www.rottentomatoes.com/m/batman_the_long_halloween_part_two',\n",
       " 'https://www.rottentomatoes.com/m/we_intend_to_cause_havoc',\n",
       " 'https://www.rottentomatoes.com/m/here_after_2021',\n",
       " 'https://www.rottentomatoes.com/m/river_2021',\n",
       " 'https://www.rottentomatoes.com/m/the_body_fights_back',\n",
       " 'https://www.rottentomatoes.com/m/toofaan',\n",
       " 'https://www.rottentomatoes.com/m/the_new_bauhaus',\n",
       " 'https://www.rottentomatoes.com/m/ice_guardians_2016',\n",
       " 'https://www.rottentomatoes.com/m/steps_2021',\n",
       " 'https://www.rottentomatoes.com/m/dead_pigs',\n",
       " 'https://www.rottentomatoes.com/m/dream_horse',\n",
       " 'https://www.rottentomatoes.com/m/lydia_lunch_the_war_is_never_over',\n",
       " 'https://www.rottentomatoes.com/m/my_heart_cant_beat_unless_you_tell_it_to',\n",
       " 'https://www.rottentomatoes.com/m/stalker_2021',\n",
       " 'https://www.rottentomatoes.com/m/the_man_who_sold_his_skin',\n",
       " 'https://www.rottentomatoes.com/m/akillas_escape',\n",
       " 'https://www.rottentomatoes.com/m/luca_2021',\n",
       " 'https://www.rottentomatoes.com/m/my_tender_matador',\n",
       " 'https://www.rottentomatoes.com/m/say_your_prayers',\n",
       " 'https://www.rottentomatoes.com/m/escape_from_extinction',\n",
       " 'https://www.rottentomatoes.com/m/julia_scotti_funny_that_way',\n",
       " 'https://www.rottentomatoes.com/m/honeydew',\n",
       " 'https://www.rottentomatoes.com/m/silent_night_2021',\n",
       " 'https://www.rottentomatoes.com/m/censor_2021',\n",
       " 'https://www.rottentomatoes.com/m/batman_the_long_halloween_part_one',\n",
       " 'https://www.rottentomatoes.com/m/gaia_2021',\n",
       " 'https://www.rottentomatoes.com/m/spirit_untamed',\n",
       " 'https://www.rottentomatoes.com/m/the_evil_next_door',\n",
       " 'https://www.rottentomatoes.com/m/forget_everything_and_run',\n",
       " 'https://www.rottentomatoes.com/m/a_perfect_enemy',\n",
       " 'https://www.rottentomatoes.com/m/rogue_hostage',\n",
       " 'https://www.rottentomatoes.com/m/death_in_texas',\n",
       " 'https://www.rottentomatoes.com/m/let_us_in',\n",
       " 'https://www.rottentomatoes.com/m/lansky_2021',\n",
       " 'https://www.rottentomatoes.com/m/scenes_from_an_empty_church',\n",
       " 'https://www.rottentomatoes.com/m/the_birthday_cake',\n",
       " 'https://www.rottentomatoes.com/m/untitled_horror_movie',\n",
       " 'https://www.rottentomatoes.com/m/the_god_committee',\n",
       " 'https://www.rottentomatoes.com/m/the_spongebob_movie_sponge_on_the_run',\n",
       " 'https://www.rottentomatoes.com/m/nomadland',\n",
       " 'https://www.rottentomatoes.com/m/raya_and_the_last_dragon',\n",
       " 'https://www.rottentomatoes.com/m/15_things_you_didnt_know_about_bigfoot',\n",
       " 'https://www.rottentomatoes.com/m/yalda_a_night_for_forgiveness',\n",
       " 'https://www.rottentomatoes.com/m/my_little_sister_2021',\n",
       " 'https://www.rottentomatoes.com/m/funny_face_2021',\n",
       " 'https://www.rottentomatoes.com/m/drunk_bus',\n",
       " 'https://www.rottentomatoes.com/m/stray_2021',\n",
       " 'https://www.rottentomatoes.com/m/skull_the_mask',\n",
       " 'https://www.rottentomatoes.com/m/the_oak_room',\n",
       " 'https://www.rottentomatoes.com/m/the_world_to_come',\n",
       " 'https://www.rottentomatoes.com/m/the_paper_tigers',\n",
       " 'https://www.rottentomatoes.com/m/bloodthirsty',\n",
       " 'https://www.rottentomatoes.com/m/the_get_together',\n",
       " 'https://www.rottentomatoes.com/m/benny_loves_you',\n",
       " 'https://www.rottentomatoes.com/m/rams_2021',\n",
       " 'https://www.rottentomatoes.com/m/happily',\n",
       " 'https://www.rottentomatoes.com/m/haymaker',\n",
       " 'https://www.rottentomatoes.com/m/when_today_ends',\n",
       " 'https://www.rottentomatoes.com/m/willys_wonderland',\n",
       " 'https://www.rottentomatoes.com/m/donna',\n",
       " 'https://www.rottentomatoes.com/m/sound_of_violence',\n",
       " 'https://www.rottentomatoes.com/m/donnys_bar_mitzvah',\n",
       " 'https://www.rottentomatoes.com/m/long_live_rock_celebrate_the_chaos',\n",
       " 'https://www.rottentomatoes.com/m/brewmance',\n",
       " 'https://www.rottentomatoes.com/m/the_retreat_2021',\n",
       " 'https://www.rottentomatoes.com/m/north_hollywood',\n",
       " 'https://www.rottentomatoes.com/m/hamlet_horatio',\n",
       " 'https://www.rottentomatoes.com/m/the_dark_hobby',\n",
       " 'https://www.rottentomatoes.com/m/captive_2020',\n",
       " 'https://www.rottentomatoes.com/m/killer_concept']"
      ]
     },
     "execution_count": 86,
     "metadata": {},
     "output_type": "execute_result"
    }
   ],
   "source": [
    "links"
   ]
  },
  {
   "cell_type": "markdown",
   "metadata": {},
   "source": [
    "**Step 4: loop through movies and build a list of lists containing our data**"
   ]
  },
  {
   "cell_type": "markdown",
   "metadata": {},
   "source": [
    "Scraping can be really painful. Depending on how the website is structured you will have to face a multitude of different problems and hiccups. 404 pages, lazy loading images and throttling are only some of the problems. It will be up to you to refine the script in a way that catches and solves all the problems that could threaten your scraping. Unfortunately there is not default recipe and you will have to change scripts and strategy often (also on the same website). Also: scrapers quickly become obsolete, if you want to scrape on regular time intervals for a long period you will always have to check the website source to be sure no major changes happened (this could cause your script to break)."
   ]
  },
  {
   "cell_type": "markdown",
   "metadata": {},
   "source": [
    "![information we are interested in](scraping_elements.png)"
   ]
  },
  {
   "cell_type": "markdown",
   "metadata": {},
   "source": [
    "In this particular case we are interested in title (1), scores (2,3), release date (4) and cover image(5)"
   ]
  },
  {
   "cell_type": "code",
   "execution_count": 87,
   "metadata": {},
   "outputs": [],
   "source": [
    "# Helper function to catch 404 and 501\n",
    "def catchSourceErrors(currentElement):\n",
    "    if currentElement == \"404 - Not Found\":\n",
    "        return True\n",
    "    if currentElement == \"Internal Server Error\":\n",
    "        return True\n",
    "    else:\n",
    "        return False"
   ]
  },
  {
   "cell_type": "code",
   "execution_count": 88,
   "metadata": {},
   "outputs": [
    {
     "name": "stdout",
     "output_type": "stream",
     "text": [
      "currently on https://www.rottentomatoes.com/m/rumble_2021\n"
     ]
    },
    {
     "name": "stderr",
     "output_type": "stream",
     "text": [
      "/Users/arran/opt/anaconda3/lib/python3.7/site-packages/ipykernel_launcher.py:17: DeprecationWarning: find_element_by_* commands are deprecated. Please use find_element() instead\n"
     ]
    },
    {
     "name": "stdout",
     "output_type": "stream",
     "text": [
      "start scraping number 1\n"
     ]
    },
    {
     "name": "stderr",
     "output_type": "stream",
     "text": [
      "/Users/arran/opt/anaconda3/lib/python3.7/site-packages/ipykernel_launcher.py:26: DeprecationWarning: find_elements_by_* commands are deprecated. Please use find_elements() instead\n"
     ]
    },
    {
     "name": "stdout",
     "output_type": "stream",
     "text": [
      "currently on https://www.rottentomatoes.com/m/hurt_2021\n",
      "start scraping number 2\n",
      "currently on https://www.rottentomatoes.com/m/mosley\n",
      "start scraping number 3\n",
      "currently on https://www.rottentomatoes.com/m/benedetta\n"
     ]
    },
    {
     "ename": "ProtocolError",
     "evalue": "('Connection aborted.', ConnectionResetError(54, 'Connection reset by peer'))",
     "output_type": "error",
     "traceback": [
      "\u001b[0;31m---------------------------------------------------------------------------\u001b[0m",
      "\u001b[0;31mConnectionResetError\u001b[0m                      Traceback (most recent call last)",
      "\u001b[0;32m~/opt/anaconda3/lib/python3.7/site-packages/urllib3/connectionpool.py\u001b[0m in \u001b[0;36murlopen\u001b[0;34m(self, method, url, body, headers, retries, redirect, assert_same_host, timeout, pool_timeout, release_conn, chunked, body_pos, **response_kw)\u001b[0m\n\u001b[1;32m    705\u001b[0m                 \u001b[0mheaders\u001b[0m\u001b[0;34m=\u001b[0m\u001b[0mheaders\u001b[0m\u001b[0;34m,\u001b[0m\u001b[0;34m\u001b[0m\u001b[0;34m\u001b[0m\u001b[0m\n\u001b[0;32m--> 706\u001b[0;31m                 \u001b[0mchunked\u001b[0m\u001b[0;34m=\u001b[0m\u001b[0mchunked\u001b[0m\u001b[0;34m,\u001b[0m\u001b[0;34m\u001b[0m\u001b[0;34m\u001b[0m\u001b[0m\n\u001b[0m\u001b[1;32m    707\u001b[0m             )\n",
      "\u001b[0;32m~/opt/anaconda3/lib/python3.7/site-packages/urllib3/connectionpool.py\u001b[0m in \u001b[0;36m_make_request\u001b[0;34m(self, conn, method, url, timeout, chunked, **httplib_request_kw)\u001b[0m\n\u001b[1;32m    444\u001b[0m                     \u001b[0;31m# Otherwise it looks like a bug in the code.\u001b[0m\u001b[0;34m\u001b[0m\u001b[0;34m\u001b[0m\u001b[0;34m\u001b[0m\u001b[0m\n\u001b[0;32m--> 445\u001b[0;31m                     \u001b[0msix\u001b[0m\u001b[0;34m.\u001b[0m\u001b[0mraise_from\u001b[0m\u001b[0;34m(\u001b[0m\u001b[0me\u001b[0m\u001b[0;34m,\u001b[0m \u001b[0;32mNone\u001b[0m\u001b[0;34m)\u001b[0m\u001b[0;34m\u001b[0m\u001b[0;34m\u001b[0m\u001b[0m\n\u001b[0m\u001b[1;32m    446\u001b[0m         \u001b[0;32mexcept\u001b[0m \u001b[0;34m(\u001b[0m\u001b[0mSocketTimeout\u001b[0m\u001b[0;34m,\u001b[0m \u001b[0mBaseSSLError\u001b[0m\u001b[0;34m,\u001b[0m \u001b[0mSocketError\u001b[0m\u001b[0;34m)\u001b[0m \u001b[0;32mas\u001b[0m \u001b[0me\u001b[0m\u001b[0;34m:\u001b[0m\u001b[0;34m\u001b[0m\u001b[0;34m\u001b[0m\u001b[0m\n",
      "\u001b[0;32m~/opt/anaconda3/lib/python3.7/site-packages/urllib3/packages/six.py\u001b[0m in \u001b[0;36mraise_from\u001b[0;34m(value, from_value)\u001b[0m\n",
      "\u001b[0;32m~/opt/anaconda3/lib/python3.7/site-packages/urllib3/connectionpool.py\u001b[0m in \u001b[0;36m_make_request\u001b[0;34m(self, conn, method, url, timeout, chunked, **httplib_request_kw)\u001b[0m\n\u001b[1;32m    439\u001b[0m                 \u001b[0;32mtry\u001b[0m\u001b[0;34m:\u001b[0m\u001b[0;34m\u001b[0m\u001b[0;34m\u001b[0m\u001b[0m\n\u001b[0;32m--> 440\u001b[0;31m                     \u001b[0mhttplib_response\u001b[0m \u001b[0;34m=\u001b[0m \u001b[0mconn\u001b[0m\u001b[0;34m.\u001b[0m\u001b[0mgetresponse\u001b[0m\u001b[0;34m(\u001b[0m\u001b[0;34m)\u001b[0m\u001b[0;34m\u001b[0m\u001b[0;34m\u001b[0m\u001b[0m\n\u001b[0m\u001b[1;32m    441\u001b[0m                 \u001b[0;32mexcept\u001b[0m \u001b[0mBaseException\u001b[0m \u001b[0;32mas\u001b[0m \u001b[0me\u001b[0m\u001b[0;34m:\u001b[0m\u001b[0;34m\u001b[0m\u001b[0;34m\u001b[0m\u001b[0m\n",
      "\u001b[0;32m~/opt/anaconda3/lib/python3.7/http/client.py\u001b[0m in \u001b[0;36mgetresponse\u001b[0;34m(self)\u001b[0m\n\u001b[1;32m   1343\u001b[0m             \u001b[0;32mtry\u001b[0m\u001b[0;34m:\u001b[0m\u001b[0;34m\u001b[0m\u001b[0;34m\u001b[0m\u001b[0m\n\u001b[0;32m-> 1344\u001b[0;31m                 \u001b[0mresponse\u001b[0m\u001b[0;34m.\u001b[0m\u001b[0mbegin\u001b[0m\u001b[0;34m(\u001b[0m\u001b[0;34m)\u001b[0m\u001b[0;34m\u001b[0m\u001b[0;34m\u001b[0m\u001b[0m\n\u001b[0m\u001b[1;32m   1345\u001b[0m             \u001b[0;32mexcept\u001b[0m \u001b[0mConnectionError\u001b[0m\u001b[0;34m:\u001b[0m\u001b[0;34m\u001b[0m\u001b[0;34m\u001b[0m\u001b[0m\n",
      "\u001b[0;32m~/opt/anaconda3/lib/python3.7/http/client.py\u001b[0m in \u001b[0;36mbegin\u001b[0;34m(self)\u001b[0m\n\u001b[1;32m    305\u001b[0m         \u001b[0;32mwhile\u001b[0m \u001b[0;32mTrue\u001b[0m\u001b[0;34m:\u001b[0m\u001b[0;34m\u001b[0m\u001b[0;34m\u001b[0m\u001b[0m\n\u001b[0;32m--> 306\u001b[0;31m             \u001b[0mversion\u001b[0m\u001b[0;34m,\u001b[0m \u001b[0mstatus\u001b[0m\u001b[0;34m,\u001b[0m \u001b[0mreason\u001b[0m \u001b[0;34m=\u001b[0m \u001b[0mself\u001b[0m\u001b[0;34m.\u001b[0m\u001b[0m_read_status\u001b[0m\u001b[0;34m(\u001b[0m\u001b[0;34m)\u001b[0m\u001b[0;34m\u001b[0m\u001b[0;34m\u001b[0m\u001b[0m\n\u001b[0m\u001b[1;32m    307\u001b[0m             \u001b[0;32mif\u001b[0m \u001b[0mstatus\u001b[0m \u001b[0;34m!=\u001b[0m \u001b[0mCONTINUE\u001b[0m\u001b[0;34m:\u001b[0m\u001b[0;34m\u001b[0m\u001b[0;34m\u001b[0m\u001b[0m\n",
      "\u001b[0;32m~/opt/anaconda3/lib/python3.7/http/client.py\u001b[0m in \u001b[0;36m_read_status\u001b[0;34m(self)\u001b[0m\n\u001b[1;32m    266\u001b[0m     \u001b[0;32mdef\u001b[0m \u001b[0m_read_status\u001b[0m\u001b[0;34m(\u001b[0m\u001b[0mself\u001b[0m\u001b[0;34m)\u001b[0m\u001b[0;34m:\u001b[0m\u001b[0;34m\u001b[0m\u001b[0;34m\u001b[0m\u001b[0m\n\u001b[0;32m--> 267\u001b[0;31m         \u001b[0mline\u001b[0m \u001b[0;34m=\u001b[0m \u001b[0mstr\u001b[0m\u001b[0;34m(\u001b[0m\u001b[0mself\u001b[0m\u001b[0;34m.\u001b[0m\u001b[0mfp\u001b[0m\u001b[0;34m.\u001b[0m\u001b[0mreadline\u001b[0m\u001b[0;34m(\u001b[0m\u001b[0m_MAXLINE\u001b[0m \u001b[0;34m+\u001b[0m \u001b[0;36m1\u001b[0m\u001b[0;34m)\u001b[0m\u001b[0;34m,\u001b[0m \u001b[0;34m\"iso-8859-1\"\u001b[0m\u001b[0;34m)\u001b[0m\u001b[0;34m\u001b[0m\u001b[0;34m\u001b[0m\u001b[0m\n\u001b[0m\u001b[1;32m    268\u001b[0m         \u001b[0;32mif\u001b[0m \u001b[0mlen\u001b[0m\u001b[0;34m(\u001b[0m\u001b[0mline\u001b[0m\u001b[0;34m)\u001b[0m \u001b[0;34m>\u001b[0m \u001b[0m_MAXLINE\u001b[0m\u001b[0;34m:\u001b[0m\u001b[0;34m\u001b[0m\u001b[0;34m\u001b[0m\u001b[0m\n",
      "\u001b[0;32m~/opt/anaconda3/lib/python3.7/socket.py\u001b[0m in \u001b[0;36mreadinto\u001b[0;34m(self, b)\u001b[0m\n\u001b[1;32m    588\u001b[0m             \u001b[0;32mtry\u001b[0m\u001b[0;34m:\u001b[0m\u001b[0;34m\u001b[0m\u001b[0;34m\u001b[0m\u001b[0m\n\u001b[0;32m--> 589\u001b[0;31m                 \u001b[0;32mreturn\u001b[0m \u001b[0mself\u001b[0m\u001b[0;34m.\u001b[0m\u001b[0m_sock\u001b[0m\u001b[0;34m.\u001b[0m\u001b[0mrecv_into\u001b[0m\u001b[0;34m(\u001b[0m\u001b[0mb\u001b[0m\u001b[0;34m)\u001b[0m\u001b[0;34m\u001b[0m\u001b[0;34m\u001b[0m\u001b[0m\n\u001b[0m\u001b[1;32m    590\u001b[0m             \u001b[0;32mexcept\u001b[0m \u001b[0mtimeout\u001b[0m\u001b[0;34m:\u001b[0m\u001b[0;34m\u001b[0m\u001b[0;34m\u001b[0m\u001b[0m\n",
      "\u001b[0;31mConnectionResetError\u001b[0m: [Errno 54] Connection reset by peer",
      "\nDuring handling of the above exception, another exception occurred:\n",
      "\u001b[0;31mProtocolError\u001b[0m                             Traceback (most recent call last)",
      "\u001b[0;32m<ipython-input-88-64acba93b4a6>\u001b[0m in \u001b[0;36m<module>\u001b[0;34m\u001b[0m\n\u001b[1;32m     70\u001b[0m     \u001b[0;31m# If waiting time gets annoying it will force driver to get the link again.\u001b[0m\u001b[0;34m\u001b[0m\u001b[0;34m\u001b[0m\u001b[0;34m\u001b[0m\u001b[0m\n\u001b[1;32m     71\u001b[0m     \u001b[0;32mexcept\u001b[0m\u001b[0;34m:\u001b[0m\u001b[0;34m\u001b[0m\u001b[0;34m\u001b[0m\u001b[0m\n\u001b[0;32m---> 72\u001b[0;31m         \u001b[0mdriver\u001b[0m\u001b[0;34m.\u001b[0m\u001b[0mget\u001b[0m\u001b[0;34m(\u001b[0m\u001b[0mlink\u001b[0m\u001b[0;34m)\u001b[0m\u001b[0;34m\u001b[0m\u001b[0;34m\u001b[0m\u001b[0m\n\u001b[0m\u001b[1;32m     73\u001b[0m         \u001b[0;32mcontinue\u001b[0m\u001b[0;34m\u001b[0m\u001b[0;34m\u001b[0m\u001b[0m\n\u001b[1;32m     74\u001b[0m \u001b[0;34m\u001b[0m\u001b[0m\n",
      "\u001b[0;32m~/opt/anaconda3/lib/python3.7/site-packages/selenium/webdriver/remote/webdriver.py\u001b[0m in \u001b[0;36mget\u001b[0;34m(self, url)\u001b[0m\n\u001b[1;32m    434\u001b[0m         \u001b[0mLoads\u001b[0m \u001b[0ma\u001b[0m \u001b[0mweb\u001b[0m \u001b[0mpage\u001b[0m \u001b[0;32min\u001b[0m \u001b[0mthe\u001b[0m \u001b[0mcurrent\u001b[0m \u001b[0mbrowser\u001b[0m \u001b[0msession\u001b[0m\u001b[0;34m.\u001b[0m\u001b[0;34m\u001b[0m\u001b[0;34m\u001b[0m\u001b[0m\n\u001b[1;32m    435\u001b[0m         \"\"\"\n\u001b[0;32m--> 436\u001b[0;31m         \u001b[0mself\u001b[0m\u001b[0;34m.\u001b[0m\u001b[0mexecute\u001b[0m\u001b[0;34m(\u001b[0m\u001b[0mCommand\u001b[0m\u001b[0;34m.\u001b[0m\u001b[0mGET\u001b[0m\u001b[0;34m,\u001b[0m \u001b[0;34m{\u001b[0m\u001b[0;34m'url'\u001b[0m\u001b[0;34m:\u001b[0m \u001b[0murl\u001b[0m\u001b[0;34m}\u001b[0m\u001b[0;34m)\u001b[0m\u001b[0;34m\u001b[0m\u001b[0;34m\u001b[0m\u001b[0m\n\u001b[0m\u001b[1;32m    437\u001b[0m \u001b[0;34m\u001b[0m\u001b[0m\n\u001b[1;32m    438\u001b[0m     \u001b[0;34m@\u001b[0m\u001b[0mproperty\u001b[0m\u001b[0;34m\u001b[0m\u001b[0;34m\u001b[0m\u001b[0m\n",
      "\u001b[0;32m~/opt/anaconda3/lib/python3.7/site-packages/selenium/webdriver/remote/webdriver.py\u001b[0m in \u001b[0;36mexecute\u001b[0;34m(self, driver_command, params)\u001b[0m\n\u001b[1;32m    420\u001b[0m \u001b[0;34m\u001b[0m\u001b[0m\n\u001b[1;32m    421\u001b[0m         \u001b[0mparams\u001b[0m \u001b[0;34m=\u001b[0m \u001b[0mself\u001b[0m\u001b[0;34m.\u001b[0m\u001b[0m_wrap_value\u001b[0m\u001b[0;34m(\u001b[0m\u001b[0mparams\u001b[0m\u001b[0;34m)\u001b[0m\u001b[0;34m\u001b[0m\u001b[0;34m\u001b[0m\u001b[0m\n\u001b[0;32m--> 422\u001b[0;31m         \u001b[0mresponse\u001b[0m \u001b[0;34m=\u001b[0m \u001b[0mself\u001b[0m\u001b[0;34m.\u001b[0m\u001b[0mcommand_executor\u001b[0m\u001b[0;34m.\u001b[0m\u001b[0mexecute\u001b[0m\u001b[0;34m(\u001b[0m\u001b[0mdriver_command\u001b[0m\u001b[0;34m,\u001b[0m \u001b[0mparams\u001b[0m\u001b[0;34m)\u001b[0m\u001b[0;34m\u001b[0m\u001b[0;34m\u001b[0m\u001b[0m\n\u001b[0m\u001b[1;32m    423\u001b[0m         \u001b[0;32mif\u001b[0m \u001b[0mresponse\u001b[0m\u001b[0;34m:\u001b[0m\u001b[0;34m\u001b[0m\u001b[0;34m\u001b[0m\u001b[0m\n\u001b[1;32m    424\u001b[0m             \u001b[0mself\u001b[0m\u001b[0;34m.\u001b[0m\u001b[0merror_handler\u001b[0m\u001b[0;34m.\u001b[0m\u001b[0mcheck_response\u001b[0m\u001b[0;34m(\u001b[0m\u001b[0mresponse\u001b[0m\u001b[0;34m)\u001b[0m\u001b[0;34m\u001b[0m\u001b[0;34m\u001b[0m\u001b[0m\n",
      "\u001b[0;32m~/opt/anaconda3/lib/python3.7/site-packages/selenium/webdriver/remote/remote_connection.py\u001b[0m in \u001b[0;36mexecute\u001b[0;34m(self, command, params)\u001b[0m\n\u001b[1;32m    419\u001b[0m         \u001b[0mdata\u001b[0m \u001b[0;34m=\u001b[0m \u001b[0mutils\u001b[0m\u001b[0;34m.\u001b[0m\u001b[0mdump_json\u001b[0m\u001b[0;34m(\u001b[0m\u001b[0mparams\u001b[0m\u001b[0;34m)\u001b[0m\u001b[0;34m\u001b[0m\u001b[0;34m\u001b[0m\u001b[0m\n\u001b[1;32m    420\u001b[0m         \u001b[0murl\u001b[0m \u001b[0;34m=\u001b[0m \u001b[0;34mf\"{self._url}{path}\"\u001b[0m\u001b[0;34m\u001b[0m\u001b[0;34m\u001b[0m\u001b[0m\n\u001b[0;32m--> 421\u001b[0;31m         \u001b[0;32mreturn\u001b[0m \u001b[0mself\u001b[0m\u001b[0;34m.\u001b[0m\u001b[0m_request\u001b[0m\u001b[0;34m(\u001b[0m\u001b[0mcommand_info\u001b[0m\u001b[0;34m[\u001b[0m\u001b[0;36m0\u001b[0m\u001b[0;34m]\u001b[0m\u001b[0;34m,\u001b[0m \u001b[0murl\u001b[0m\u001b[0;34m,\u001b[0m \u001b[0mbody\u001b[0m\u001b[0;34m=\u001b[0m\u001b[0mdata\u001b[0m\u001b[0;34m)\u001b[0m\u001b[0;34m\u001b[0m\u001b[0;34m\u001b[0m\u001b[0m\n\u001b[0m\u001b[1;32m    422\u001b[0m \u001b[0;34m\u001b[0m\u001b[0m\n\u001b[1;32m    423\u001b[0m     \u001b[0;32mdef\u001b[0m \u001b[0m_request\u001b[0m\u001b[0;34m(\u001b[0m\u001b[0mself\u001b[0m\u001b[0;34m,\u001b[0m \u001b[0mmethod\u001b[0m\u001b[0;34m,\u001b[0m \u001b[0murl\u001b[0m\u001b[0;34m,\u001b[0m \u001b[0mbody\u001b[0m\u001b[0;34m=\u001b[0m\u001b[0;32mNone\u001b[0m\u001b[0;34m)\u001b[0m\u001b[0;34m:\u001b[0m\u001b[0;34m\u001b[0m\u001b[0;34m\u001b[0m\u001b[0m\n",
      "\u001b[0;32m~/opt/anaconda3/lib/python3.7/site-packages/selenium/webdriver/remote/remote_connection.py\u001b[0m in \u001b[0;36m_request\u001b[0;34m(self, method, url, body)\u001b[0m\n\u001b[1;32m    441\u001b[0m \u001b[0;34m\u001b[0m\u001b[0m\n\u001b[1;32m    442\u001b[0m         \u001b[0;32mif\u001b[0m \u001b[0mself\u001b[0m\u001b[0;34m.\u001b[0m\u001b[0mkeep_alive\u001b[0m\u001b[0;34m:\u001b[0m\u001b[0;34m\u001b[0m\u001b[0;34m\u001b[0m\u001b[0m\n\u001b[0;32m--> 443\u001b[0;31m             \u001b[0mresp\u001b[0m \u001b[0;34m=\u001b[0m \u001b[0mself\u001b[0m\u001b[0;34m.\u001b[0m\u001b[0m_conn\u001b[0m\u001b[0;34m.\u001b[0m\u001b[0mrequest\u001b[0m\u001b[0;34m(\u001b[0m\u001b[0mmethod\u001b[0m\u001b[0;34m,\u001b[0m \u001b[0murl\u001b[0m\u001b[0;34m,\u001b[0m \u001b[0mbody\u001b[0m\u001b[0;34m=\u001b[0m\u001b[0mbody\u001b[0m\u001b[0;34m,\u001b[0m \u001b[0mheaders\u001b[0m\u001b[0;34m=\u001b[0m\u001b[0mheaders\u001b[0m\u001b[0;34m)\u001b[0m\u001b[0;34m\u001b[0m\u001b[0;34m\u001b[0m\u001b[0m\n\u001b[0m\u001b[1;32m    444\u001b[0m             \u001b[0mstatuscode\u001b[0m \u001b[0;34m=\u001b[0m \u001b[0mresp\u001b[0m\u001b[0;34m.\u001b[0m\u001b[0mstatus\u001b[0m\u001b[0;34m\u001b[0m\u001b[0;34m\u001b[0m\u001b[0m\n\u001b[1;32m    445\u001b[0m         \u001b[0;32melse\u001b[0m\u001b[0;34m:\u001b[0m\u001b[0;34m\u001b[0m\u001b[0;34m\u001b[0m\u001b[0m\n",
      "\u001b[0;32m~/opt/anaconda3/lib/python3.7/site-packages/urllib3/request.py\u001b[0m in \u001b[0;36mrequest\u001b[0;34m(self, method, url, fields, headers, **urlopen_kw)\u001b[0m\n\u001b[1;32m     77\u001b[0m         \u001b[0;32melse\u001b[0m\u001b[0;34m:\u001b[0m\u001b[0;34m\u001b[0m\u001b[0;34m\u001b[0m\u001b[0m\n\u001b[1;32m     78\u001b[0m             return self.request_encode_body(\n\u001b[0;32m---> 79\u001b[0;31m                 \u001b[0mmethod\u001b[0m\u001b[0;34m,\u001b[0m \u001b[0murl\u001b[0m\u001b[0;34m,\u001b[0m \u001b[0mfields\u001b[0m\u001b[0;34m=\u001b[0m\u001b[0mfields\u001b[0m\u001b[0;34m,\u001b[0m \u001b[0mheaders\u001b[0m\u001b[0;34m=\u001b[0m\u001b[0mheaders\u001b[0m\u001b[0;34m,\u001b[0m \u001b[0;34m**\u001b[0m\u001b[0murlopen_kw\u001b[0m\u001b[0;34m\u001b[0m\u001b[0;34m\u001b[0m\u001b[0m\n\u001b[0m\u001b[1;32m     80\u001b[0m             )\n\u001b[1;32m     81\u001b[0m \u001b[0;34m\u001b[0m\u001b[0m\n",
      "\u001b[0;32m~/opt/anaconda3/lib/python3.7/site-packages/urllib3/request.py\u001b[0m in \u001b[0;36mrequest_encode_body\u001b[0;34m(self, method, url, fields, headers, encode_multipart, multipart_boundary, **urlopen_kw)\u001b[0m\n\u001b[1;32m    168\u001b[0m         \u001b[0mextra_kw\u001b[0m\u001b[0;34m.\u001b[0m\u001b[0mupdate\u001b[0m\u001b[0;34m(\u001b[0m\u001b[0murlopen_kw\u001b[0m\u001b[0;34m)\u001b[0m\u001b[0;34m\u001b[0m\u001b[0;34m\u001b[0m\u001b[0m\n\u001b[1;32m    169\u001b[0m \u001b[0;34m\u001b[0m\u001b[0m\n\u001b[0;32m--> 170\u001b[0;31m         \u001b[0;32mreturn\u001b[0m \u001b[0mself\u001b[0m\u001b[0;34m.\u001b[0m\u001b[0murlopen\u001b[0m\u001b[0;34m(\u001b[0m\u001b[0mmethod\u001b[0m\u001b[0;34m,\u001b[0m \u001b[0murl\u001b[0m\u001b[0;34m,\u001b[0m \u001b[0;34m**\u001b[0m\u001b[0mextra_kw\u001b[0m\u001b[0;34m)\u001b[0m\u001b[0;34m\u001b[0m\u001b[0;34m\u001b[0m\u001b[0m\n\u001b[0m",
      "\u001b[0;32m~/opt/anaconda3/lib/python3.7/site-packages/urllib3/poolmanager.py\u001b[0m in \u001b[0;36murlopen\u001b[0;34m(self, method, url, redirect, **kw)\u001b[0m\n\u001b[1;32m    373\u001b[0m             \u001b[0mresponse\u001b[0m \u001b[0;34m=\u001b[0m \u001b[0mconn\u001b[0m\u001b[0;34m.\u001b[0m\u001b[0murlopen\u001b[0m\u001b[0;34m(\u001b[0m\u001b[0mmethod\u001b[0m\u001b[0;34m,\u001b[0m \u001b[0murl\u001b[0m\u001b[0;34m,\u001b[0m \u001b[0;34m**\u001b[0m\u001b[0mkw\u001b[0m\u001b[0;34m)\u001b[0m\u001b[0;34m\u001b[0m\u001b[0;34m\u001b[0m\u001b[0m\n\u001b[1;32m    374\u001b[0m         \u001b[0;32melse\u001b[0m\u001b[0;34m:\u001b[0m\u001b[0;34m\u001b[0m\u001b[0;34m\u001b[0m\u001b[0m\n\u001b[0;32m--> 375\u001b[0;31m             \u001b[0mresponse\u001b[0m \u001b[0;34m=\u001b[0m \u001b[0mconn\u001b[0m\u001b[0;34m.\u001b[0m\u001b[0murlopen\u001b[0m\u001b[0;34m(\u001b[0m\u001b[0mmethod\u001b[0m\u001b[0;34m,\u001b[0m \u001b[0mu\u001b[0m\u001b[0;34m.\u001b[0m\u001b[0mrequest_uri\u001b[0m\u001b[0;34m,\u001b[0m \u001b[0;34m**\u001b[0m\u001b[0mkw\u001b[0m\u001b[0;34m)\u001b[0m\u001b[0;34m\u001b[0m\u001b[0;34m\u001b[0m\u001b[0m\n\u001b[0m\u001b[1;32m    376\u001b[0m \u001b[0;34m\u001b[0m\u001b[0m\n\u001b[1;32m    377\u001b[0m         \u001b[0mredirect_location\u001b[0m \u001b[0;34m=\u001b[0m \u001b[0mredirect\u001b[0m \u001b[0;32mand\u001b[0m \u001b[0mresponse\u001b[0m\u001b[0;34m.\u001b[0m\u001b[0mget_redirect_location\u001b[0m\u001b[0;34m(\u001b[0m\u001b[0;34m)\u001b[0m\u001b[0;34m\u001b[0m\u001b[0;34m\u001b[0m\u001b[0m\n",
      "\u001b[0;32m~/opt/anaconda3/lib/python3.7/site-packages/urllib3/connectionpool.py\u001b[0m in \u001b[0;36murlopen\u001b[0;34m(self, method, url, body, headers, retries, redirect, assert_same_host, timeout, pool_timeout, release_conn, chunked, body_pos, **response_kw)\u001b[0m\n\u001b[1;32m    754\u001b[0m \u001b[0;34m\u001b[0m\u001b[0m\n\u001b[1;32m    755\u001b[0m             retries = retries.increment(\n\u001b[0;32m--> 756\u001b[0;31m                 \u001b[0mmethod\u001b[0m\u001b[0;34m,\u001b[0m \u001b[0murl\u001b[0m\u001b[0;34m,\u001b[0m \u001b[0merror\u001b[0m\u001b[0;34m=\u001b[0m\u001b[0me\u001b[0m\u001b[0;34m,\u001b[0m \u001b[0m_pool\u001b[0m\u001b[0;34m=\u001b[0m\u001b[0mself\u001b[0m\u001b[0;34m,\u001b[0m \u001b[0m_stacktrace\u001b[0m\u001b[0;34m=\u001b[0m\u001b[0msys\u001b[0m\u001b[0;34m.\u001b[0m\u001b[0mexc_info\u001b[0m\u001b[0;34m(\u001b[0m\u001b[0;34m)\u001b[0m\u001b[0;34m[\u001b[0m\u001b[0;36m2\u001b[0m\u001b[0;34m]\u001b[0m\u001b[0;34m\u001b[0m\u001b[0;34m\u001b[0m\u001b[0m\n\u001b[0m\u001b[1;32m    757\u001b[0m             )\n\u001b[1;32m    758\u001b[0m             \u001b[0mretries\u001b[0m\u001b[0;34m.\u001b[0m\u001b[0msleep\u001b[0m\u001b[0;34m(\u001b[0m\u001b[0;34m)\u001b[0m\u001b[0;34m\u001b[0m\u001b[0;34m\u001b[0m\u001b[0m\n",
      "\u001b[0;32m~/opt/anaconda3/lib/python3.7/site-packages/urllib3/util/retry.py\u001b[0m in \u001b[0;36mincrement\u001b[0;34m(self, method, url, response, error, _pool, _stacktrace)\u001b[0m\n\u001b[1;32m    530\u001b[0m             \u001b[0;31m# Read retry?\u001b[0m\u001b[0;34m\u001b[0m\u001b[0;34m\u001b[0m\u001b[0;34m\u001b[0m\u001b[0m\n\u001b[1;32m    531\u001b[0m             \u001b[0;32mif\u001b[0m \u001b[0mread\u001b[0m \u001b[0;32mis\u001b[0m \u001b[0;32mFalse\u001b[0m \u001b[0;32mor\u001b[0m \u001b[0;32mnot\u001b[0m \u001b[0mself\u001b[0m\u001b[0;34m.\u001b[0m\u001b[0m_is_method_retryable\u001b[0m\u001b[0;34m(\u001b[0m\u001b[0mmethod\u001b[0m\u001b[0;34m)\u001b[0m\u001b[0;34m:\u001b[0m\u001b[0;34m\u001b[0m\u001b[0;34m\u001b[0m\u001b[0m\n\u001b[0;32m--> 532\u001b[0;31m                 \u001b[0;32mraise\u001b[0m \u001b[0msix\u001b[0m\u001b[0;34m.\u001b[0m\u001b[0mreraise\u001b[0m\u001b[0;34m(\u001b[0m\u001b[0mtype\u001b[0m\u001b[0;34m(\u001b[0m\u001b[0merror\u001b[0m\u001b[0;34m)\u001b[0m\u001b[0;34m,\u001b[0m \u001b[0merror\u001b[0m\u001b[0;34m,\u001b[0m \u001b[0m_stacktrace\u001b[0m\u001b[0;34m)\u001b[0m\u001b[0;34m\u001b[0m\u001b[0;34m\u001b[0m\u001b[0m\n\u001b[0m\u001b[1;32m    533\u001b[0m             \u001b[0;32melif\u001b[0m \u001b[0mread\u001b[0m \u001b[0;32mis\u001b[0m \u001b[0;32mnot\u001b[0m \u001b[0;32mNone\u001b[0m\u001b[0;34m:\u001b[0m\u001b[0;34m\u001b[0m\u001b[0;34m\u001b[0m\u001b[0m\n\u001b[1;32m    534\u001b[0m                 \u001b[0mread\u001b[0m \u001b[0;34m-=\u001b[0m \u001b[0;36m1\u001b[0m\u001b[0;34m\u001b[0m\u001b[0;34m\u001b[0m\u001b[0m\n",
      "\u001b[0;32m~/opt/anaconda3/lib/python3.7/site-packages/urllib3/packages/six.py\u001b[0m in \u001b[0;36mreraise\u001b[0;34m(tp, value, tb)\u001b[0m\n\u001b[1;32m    767\u001b[0m                 \u001b[0mvalue\u001b[0m \u001b[0;34m=\u001b[0m \u001b[0mtp\u001b[0m\u001b[0;34m(\u001b[0m\u001b[0;34m)\u001b[0m\u001b[0;34m\u001b[0m\u001b[0;34m\u001b[0m\u001b[0m\n\u001b[1;32m    768\u001b[0m             \u001b[0;32mif\u001b[0m \u001b[0mvalue\u001b[0m\u001b[0;34m.\u001b[0m\u001b[0m__traceback__\u001b[0m \u001b[0;32mis\u001b[0m \u001b[0;32mnot\u001b[0m \u001b[0mtb\u001b[0m\u001b[0;34m:\u001b[0m\u001b[0;34m\u001b[0m\u001b[0;34m\u001b[0m\u001b[0m\n\u001b[0;32m--> 769\u001b[0;31m                 \u001b[0;32mraise\u001b[0m \u001b[0mvalue\u001b[0m\u001b[0;34m.\u001b[0m\u001b[0mwith_traceback\u001b[0m\u001b[0;34m(\u001b[0m\u001b[0mtb\u001b[0m\u001b[0;34m)\u001b[0m\u001b[0;34m\u001b[0m\u001b[0;34m\u001b[0m\u001b[0m\n\u001b[0m\u001b[1;32m    770\u001b[0m             \u001b[0;32mraise\u001b[0m \u001b[0mvalue\u001b[0m\u001b[0;34m\u001b[0m\u001b[0;34m\u001b[0m\u001b[0m\n\u001b[1;32m    771\u001b[0m         \u001b[0;32mfinally\u001b[0m\u001b[0;34m:\u001b[0m\u001b[0;34m\u001b[0m\u001b[0;34m\u001b[0m\u001b[0m\n",
      "\u001b[0;32m~/opt/anaconda3/lib/python3.7/site-packages/urllib3/connectionpool.py\u001b[0m in \u001b[0;36murlopen\u001b[0;34m(self, method, url, body, headers, retries, redirect, assert_same_host, timeout, pool_timeout, release_conn, chunked, body_pos, **response_kw)\u001b[0m\n\u001b[1;32m    704\u001b[0m                 \u001b[0mbody\u001b[0m\u001b[0;34m=\u001b[0m\u001b[0mbody\u001b[0m\u001b[0;34m,\u001b[0m\u001b[0;34m\u001b[0m\u001b[0;34m\u001b[0m\u001b[0m\n\u001b[1;32m    705\u001b[0m                 \u001b[0mheaders\u001b[0m\u001b[0;34m=\u001b[0m\u001b[0mheaders\u001b[0m\u001b[0;34m,\u001b[0m\u001b[0;34m\u001b[0m\u001b[0;34m\u001b[0m\u001b[0m\n\u001b[0;32m--> 706\u001b[0;31m                 \u001b[0mchunked\u001b[0m\u001b[0;34m=\u001b[0m\u001b[0mchunked\u001b[0m\u001b[0;34m,\u001b[0m\u001b[0;34m\u001b[0m\u001b[0;34m\u001b[0m\u001b[0m\n\u001b[0m\u001b[1;32m    707\u001b[0m             )\n\u001b[1;32m    708\u001b[0m \u001b[0;34m\u001b[0m\u001b[0m\n",
      "\u001b[0;32m~/opt/anaconda3/lib/python3.7/site-packages/urllib3/connectionpool.py\u001b[0m in \u001b[0;36m_make_request\u001b[0;34m(self, conn, method, url, timeout, chunked, **httplib_request_kw)\u001b[0m\n\u001b[1;32m    443\u001b[0m                     \u001b[0;31m# Python 3 (including for exceptions like SystemExit).\u001b[0m\u001b[0;34m\u001b[0m\u001b[0;34m\u001b[0m\u001b[0;34m\u001b[0m\u001b[0m\n\u001b[1;32m    444\u001b[0m                     \u001b[0;31m# Otherwise it looks like a bug in the code.\u001b[0m\u001b[0;34m\u001b[0m\u001b[0;34m\u001b[0m\u001b[0;34m\u001b[0m\u001b[0m\n\u001b[0;32m--> 445\u001b[0;31m                     \u001b[0msix\u001b[0m\u001b[0;34m.\u001b[0m\u001b[0mraise_from\u001b[0m\u001b[0;34m(\u001b[0m\u001b[0me\u001b[0m\u001b[0;34m,\u001b[0m \u001b[0;32mNone\u001b[0m\u001b[0;34m)\u001b[0m\u001b[0;34m\u001b[0m\u001b[0;34m\u001b[0m\u001b[0m\n\u001b[0m\u001b[1;32m    446\u001b[0m         \u001b[0;32mexcept\u001b[0m \u001b[0;34m(\u001b[0m\u001b[0mSocketTimeout\u001b[0m\u001b[0;34m,\u001b[0m \u001b[0mBaseSSLError\u001b[0m\u001b[0;34m,\u001b[0m \u001b[0mSocketError\u001b[0m\u001b[0;34m)\u001b[0m \u001b[0;32mas\u001b[0m \u001b[0me\u001b[0m\u001b[0;34m:\u001b[0m\u001b[0;34m\u001b[0m\u001b[0;34m\u001b[0m\u001b[0m\n\u001b[1;32m    447\u001b[0m             \u001b[0mself\u001b[0m\u001b[0;34m.\u001b[0m\u001b[0m_raise_timeout\u001b[0m\u001b[0;34m(\u001b[0m\u001b[0merr\u001b[0m\u001b[0;34m=\u001b[0m\u001b[0me\u001b[0m\u001b[0;34m,\u001b[0m \u001b[0murl\u001b[0m\u001b[0;34m=\u001b[0m\u001b[0murl\u001b[0m\u001b[0;34m,\u001b[0m \u001b[0mtimeout_value\u001b[0m\u001b[0;34m=\u001b[0m\u001b[0mread_timeout\u001b[0m\u001b[0;34m)\u001b[0m\u001b[0;34m\u001b[0m\u001b[0;34m\u001b[0m\u001b[0m\n",
      "\u001b[0;32m~/opt/anaconda3/lib/python3.7/site-packages/urllib3/packages/six.py\u001b[0m in \u001b[0;36mraise_from\u001b[0;34m(value, from_value)\u001b[0m\n",
      "\u001b[0;32m~/opt/anaconda3/lib/python3.7/site-packages/urllib3/connectionpool.py\u001b[0m in \u001b[0;36m_make_request\u001b[0;34m(self, conn, method, url, timeout, chunked, **httplib_request_kw)\u001b[0m\n\u001b[1;32m    438\u001b[0m                 \u001b[0;31m# Python 3\u001b[0m\u001b[0;34m\u001b[0m\u001b[0;34m\u001b[0m\u001b[0;34m\u001b[0m\u001b[0m\n\u001b[1;32m    439\u001b[0m                 \u001b[0;32mtry\u001b[0m\u001b[0;34m:\u001b[0m\u001b[0;34m\u001b[0m\u001b[0;34m\u001b[0m\u001b[0m\n\u001b[0;32m--> 440\u001b[0;31m                     \u001b[0mhttplib_response\u001b[0m \u001b[0;34m=\u001b[0m \u001b[0mconn\u001b[0m\u001b[0;34m.\u001b[0m\u001b[0mgetresponse\u001b[0m\u001b[0;34m(\u001b[0m\u001b[0;34m)\u001b[0m\u001b[0;34m\u001b[0m\u001b[0;34m\u001b[0m\u001b[0m\n\u001b[0m\u001b[1;32m    441\u001b[0m                 \u001b[0;32mexcept\u001b[0m \u001b[0mBaseException\u001b[0m \u001b[0;32mas\u001b[0m \u001b[0me\u001b[0m\u001b[0;34m:\u001b[0m\u001b[0;34m\u001b[0m\u001b[0;34m\u001b[0m\u001b[0m\n\u001b[1;32m    442\u001b[0m                     \u001b[0;31m# Remove the TypeError from the exception chain in\u001b[0m\u001b[0;34m\u001b[0m\u001b[0;34m\u001b[0m\u001b[0;34m\u001b[0m\u001b[0m\n",
      "\u001b[0;32m~/opt/anaconda3/lib/python3.7/http/client.py\u001b[0m in \u001b[0;36mgetresponse\u001b[0;34m(self)\u001b[0m\n\u001b[1;32m   1342\u001b[0m         \u001b[0;32mtry\u001b[0m\u001b[0;34m:\u001b[0m\u001b[0;34m\u001b[0m\u001b[0;34m\u001b[0m\u001b[0m\n\u001b[1;32m   1343\u001b[0m             \u001b[0;32mtry\u001b[0m\u001b[0;34m:\u001b[0m\u001b[0;34m\u001b[0m\u001b[0;34m\u001b[0m\u001b[0m\n\u001b[0;32m-> 1344\u001b[0;31m                 \u001b[0mresponse\u001b[0m\u001b[0;34m.\u001b[0m\u001b[0mbegin\u001b[0m\u001b[0;34m(\u001b[0m\u001b[0;34m)\u001b[0m\u001b[0;34m\u001b[0m\u001b[0;34m\u001b[0m\u001b[0m\n\u001b[0m\u001b[1;32m   1345\u001b[0m             \u001b[0;32mexcept\u001b[0m \u001b[0mConnectionError\u001b[0m\u001b[0;34m:\u001b[0m\u001b[0;34m\u001b[0m\u001b[0;34m\u001b[0m\u001b[0m\n\u001b[1;32m   1346\u001b[0m                 \u001b[0mself\u001b[0m\u001b[0;34m.\u001b[0m\u001b[0mclose\u001b[0m\u001b[0;34m(\u001b[0m\u001b[0;34m)\u001b[0m\u001b[0;34m\u001b[0m\u001b[0;34m\u001b[0m\u001b[0m\n",
      "\u001b[0;32m~/opt/anaconda3/lib/python3.7/http/client.py\u001b[0m in \u001b[0;36mbegin\u001b[0;34m(self)\u001b[0m\n\u001b[1;32m    304\u001b[0m         \u001b[0;31m# read until we get a non-100 response\u001b[0m\u001b[0;34m\u001b[0m\u001b[0;34m\u001b[0m\u001b[0;34m\u001b[0m\u001b[0m\n\u001b[1;32m    305\u001b[0m         \u001b[0;32mwhile\u001b[0m \u001b[0;32mTrue\u001b[0m\u001b[0;34m:\u001b[0m\u001b[0;34m\u001b[0m\u001b[0;34m\u001b[0m\u001b[0m\n\u001b[0;32m--> 306\u001b[0;31m             \u001b[0mversion\u001b[0m\u001b[0;34m,\u001b[0m \u001b[0mstatus\u001b[0m\u001b[0;34m,\u001b[0m \u001b[0mreason\u001b[0m \u001b[0;34m=\u001b[0m \u001b[0mself\u001b[0m\u001b[0;34m.\u001b[0m\u001b[0m_read_status\u001b[0m\u001b[0;34m(\u001b[0m\u001b[0;34m)\u001b[0m\u001b[0;34m\u001b[0m\u001b[0;34m\u001b[0m\u001b[0m\n\u001b[0m\u001b[1;32m    307\u001b[0m             \u001b[0;32mif\u001b[0m \u001b[0mstatus\u001b[0m \u001b[0;34m!=\u001b[0m \u001b[0mCONTINUE\u001b[0m\u001b[0;34m:\u001b[0m\u001b[0;34m\u001b[0m\u001b[0;34m\u001b[0m\u001b[0m\n\u001b[1;32m    308\u001b[0m                 \u001b[0;32mbreak\u001b[0m\u001b[0;34m\u001b[0m\u001b[0;34m\u001b[0m\u001b[0m\n",
      "\u001b[0;32m~/opt/anaconda3/lib/python3.7/http/client.py\u001b[0m in \u001b[0;36m_read_status\u001b[0;34m(self)\u001b[0m\n\u001b[1;32m    265\u001b[0m \u001b[0;34m\u001b[0m\u001b[0m\n\u001b[1;32m    266\u001b[0m     \u001b[0;32mdef\u001b[0m \u001b[0m_read_status\u001b[0m\u001b[0;34m(\u001b[0m\u001b[0mself\u001b[0m\u001b[0;34m)\u001b[0m\u001b[0;34m:\u001b[0m\u001b[0;34m\u001b[0m\u001b[0;34m\u001b[0m\u001b[0m\n\u001b[0;32m--> 267\u001b[0;31m         \u001b[0mline\u001b[0m \u001b[0;34m=\u001b[0m \u001b[0mstr\u001b[0m\u001b[0;34m(\u001b[0m\u001b[0mself\u001b[0m\u001b[0;34m.\u001b[0m\u001b[0mfp\u001b[0m\u001b[0;34m.\u001b[0m\u001b[0mreadline\u001b[0m\u001b[0;34m(\u001b[0m\u001b[0m_MAXLINE\u001b[0m \u001b[0;34m+\u001b[0m \u001b[0;36m1\u001b[0m\u001b[0;34m)\u001b[0m\u001b[0;34m,\u001b[0m \u001b[0;34m\"iso-8859-1\"\u001b[0m\u001b[0;34m)\u001b[0m\u001b[0;34m\u001b[0m\u001b[0;34m\u001b[0m\u001b[0m\n\u001b[0m\u001b[1;32m    268\u001b[0m         \u001b[0;32mif\u001b[0m \u001b[0mlen\u001b[0m\u001b[0;34m(\u001b[0m\u001b[0mline\u001b[0m\u001b[0;34m)\u001b[0m \u001b[0;34m>\u001b[0m \u001b[0m_MAXLINE\u001b[0m\u001b[0;34m:\u001b[0m\u001b[0;34m\u001b[0m\u001b[0;34m\u001b[0m\u001b[0m\n\u001b[1;32m    269\u001b[0m             \u001b[0;32mraise\u001b[0m \u001b[0mLineTooLong\u001b[0m\u001b[0;34m(\u001b[0m\u001b[0;34m\"status line\"\u001b[0m\u001b[0;34m)\u001b[0m\u001b[0;34m\u001b[0m\u001b[0;34m\u001b[0m\u001b[0m\n",
      "\u001b[0;32m~/opt/anaconda3/lib/python3.7/socket.py\u001b[0m in \u001b[0;36mreadinto\u001b[0;34m(self, b)\u001b[0m\n\u001b[1;32m    587\u001b[0m         \u001b[0;32mwhile\u001b[0m \u001b[0;32mTrue\u001b[0m\u001b[0;34m:\u001b[0m\u001b[0;34m\u001b[0m\u001b[0;34m\u001b[0m\u001b[0m\n\u001b[1;32m    588\u001b[0m             \u001b[0;32mtry\u001b[0m\u001b[0;34m:\u001b[0m\u001b[0;34m\u001b[0m\u001b[0;34m\u001b[0m\u001b[0m\n\u001b[0;32m--> 589\u001b[0;31m                 \u001b[0;32mreturn\u001b[0m \u001b[0mself\u001b[0m\u001b[0;34m.\u001b[0m\u001b[0m_sock\u001b[0m\u001b[0;34m.\u001b[0m\u001b[0mrecv_into\u001b[0m\u001b[0;34m(\u001b[0m\u001b[0mb\u001b[0m\u001b[0;34m)\u001b[0m\u001b[0;34m\u001b[0m\u001b[0;34m\u001b[0m\u001b[0m\n\u001b[0m\u001b[1;32m    590\u001b[0m             \u001b[0;32mexcept\u001b[0m \u001b[0mtimeout\u001b[0m\u001b[0;34m:\u001b[0m\u001b[0;34m\u001b[0m\u001b[0;34m\u001b[0m\u001b[0m\n\u001b[1;32m    591\u001b[0m                 \u001b[0mself\u001b[0m\u001b[0;34m.\u001b[0m\u001b[0m_timeout_occurred\u001b[0m \u001b[0;34m=\u001b[0m \u001b[0;32mTrue\u001b[0m\u001b[0;34m\u001b[0m\u001b[0;34m\u001b[0m\u001b[0m\n",
      "\u001b[0;31mProtocolError\u001b[0m: ('Connection aborted.', ConnectionResetError(54, 'Connection reset by peer'))"
     ]
    }
   ],
   "source": [
    "moviesData = []\n",
    "count = 0\n",
    "# Passing to our driver a waiting time in seconds\n",
    "wait = WebDriverWait(driver, 10)\n",
    "\n",
    "\n",
    "for link in links:\n",
    "    \n",
    "# -- Initially load page -------------------------\n",
    "\n",
    "    driver.get(link)\n",
    "    print('currently on', link)\n",
    "    count = count + 1\n",
    "    # Try to scrape only if the main container is visible    \n",
    "    try:    \n",
    "        wait.until(EC.visibility_of_element_located((By.CSS_SELECTOR, '#main_container')))\n",
    "        if catchSourceErrors(driver.find_element_by_tag_name(\"h1\").text) is False:\n",
    "            try:\n",
    "                \n",
    "# ------------------ Waiting and retrieving data -------------------------\n",
    "\n",
    "                print('start scraping number', count)\n",
    "                # Wait for title, then get title and scores\n",
    "                wait.until(EC.visibility_of_element_located((By.CSS_SELECTOR, '.scoreboard__title')))\n",
    "                title = driver.find_element(By.CLASS_NAME, \"scoreboard__title\").text\n",
    "                scores = driver.find_elements_by_tag_name(\"score-board\")\n",
    "\n",
    "                \n",
    "                criticNumber = scores[0].get_attribute('tomatometerscore')\n",
    "                audienceNumber = scores[0].get_attribute('audiencescore')\n",
    "\n",
    "                # Pause in case images are not properly loaded\n",
    "                wait.until(EC.visibility_of_element_located((By.CSS_SELECTOR, '.posterImage')))\n",
    "\n",
    "                # Download images\n",
    "                image = driver.find_element(By.CLASS_NAME, 'posterImage')\n",
    "                source = image.get_attribute(\"src\")\n",
    "                imgdestination = \"data/img/poster-{0}.jpg\".format(count)\n",
    "                urllib.request.urlretrieve(source, imgdestination)\n",
    "\n",
    "                # Get release date and genre from movie_info box\n",
    "                releaseDate = driver.find_element_by_tag_name('time').text\n",
    "                movieGenre = driver.find_element(By.CLASS_NAME, 'meta-value genre').text\n",
    "\n",
    "                # Append to list\n",
    "                print('data', title, criticNumber, audienceNumber, releaseDate, movieGenre)\n",
    "                moviesData.append([\n",
    "                    title, \n",
    "                    criticNumber, \n",
    "                    audienceNumber, \n",
    "                    movieGenre, \n",
    "                    imgdestination, \n",
    "                    releaseDate\n",
    "                ])\n",
    "                driver.send_keys(Keys.CONTROL +'Escape')\n",
    "                print(title, 'appended to list!')\n",
    "                print('----------')\n",
    "                \n",
    "# -------------- Exceptions and errors handling! -------------------------\n",
    "\n",
    "            #Catch error in case the movie page is not properly loaded\n",
    "            except (NoSuchElementException, TimeoutException):\n",
    "                print('no element')\n",
    "                continue\n",
    "\n",
    "        # If the page doesn't exists it will skip and continue        \n",
    "        else:\n",
    "            continue\n",
    "            \n",
    "    # If waiting time gets annoying it will force driver to get the link again.      \n",
    "    except:\n",
    "        driver.get(link)\n",
    "        continue\n",
    "\n",
    "# Quit from driver and display data        \n",
    "driver.quit()\n",
    "print(moviesData)"
   ]
  },
  {
   "cell_type": "code",
   "execution_count": 76,
   "metadata": {},
   "outputs": [],
   "source": [
    "AllStreamingTitles = pd.DataFrame(moviesData, columns=[\"title\", \"critic rating\", \"audience rating\", \"genres\", \"img\", \"available\"])"
   ]
  },
  {
   "cell_type": "markdown",
   "metadata": {},
   "source": [
    "**Step 5: Move list of lists content to a pandas dataframe**"
   ]
  },
  {
   "cell_type": "code",
   "execution_count": 50,
   "metadata": {},
   "outputs": [
    {
     "data": {
      "text/html": [
       "<div>\n",
       "<style scoped>\n",
       "    .dataframe tbody tr th:only-of-type {\n",
       "        vertical-align: middle;\n",
       "    }\n",
       "\n",
       "    .dataframe tbody tr th {\n",
       "        vertical-align: top;\n",
       "    }\n",
       "\n",
       "    .dataframe thead th {\n",
       "        text-align: right;\n",
       "    }\n",
       "</style>\n",
       "<table border=\"1\" class=\"dataframe\">\n",
       "  <thead>\n",
       "    <tr style=\"text-align: right;\">\n",
       "      <th></th>\n",
       "      <th>title</th>\n",
       "      <th>critic rating</th>\n",
       "      <th>audience rating</th>\n",
       "      <th>genres</th>\n",
       "      <th>img</th>\n",
       "      <th>available</th>\n",
       "    </tr>\n",
       "  </thead>\n",
       "  <tbody>\n",
       "  </tbody>\n",
       "</table>\n",
       "</div>"
      ],
      "text/plain": [
       "Empty DataFrame\n",
       "Columns: [title, critic rating, audience rating, genres, img, available]\n",
       "Index: []"
      ]
     },
     "execution_count": 50,
     "metadata": {},
     "output_type": "execute_result"
    }
   ],
   "source": [
    "#Previewing 5 random rows from my dataframe\n",
    "AllStreamingTitles.head(50)"
   ]
  },
  {
   "cell_type": "markdown",
   "metadata": {},
   "source": [
    "**Step 6: Export dataframe to csv**"
   ]
  },
  {
   "cell_type": "code",
   "execution_count": 23,
   "metadata": {},
   "outputs": [],
   "source": [
    "# Check the 'data' subfolder after executing this cell to see the file.\n",
    "AllStreamingTitles.to_csv('data/movieDetailsDataRaw.csv', sep=',')"
   ]
  },
  {
   "cell_type": "code",
   "execution_count": null,
   "metadata": {},
   "outputs": [],
   "source": []
  }
 ],
 "metadata": {
  "kernelspec": {
   "display_name": "Python 3",
   "language": "python",
   "name": "python3"
  },
  "language_info": {
   "codemirror_mode": {
    "name": "ipython",
    "version": 3
   },
   "file_extension": ".py",
   "mimetype": "text/x-python",
   "name": "python",
   "nbconvert_exporter": "python",
   "pygments_lexer": "ipython3",
   "version": "3.7.6"
  }
 },
 "nbformat": 4,
 "nbformat_minor": 4
}
